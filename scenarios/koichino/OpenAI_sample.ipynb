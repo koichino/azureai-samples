{
 "cells": [
  {
   "cell_type": "code",
   "execution_count": null,
   "metadata": {},
   "outputs": [],
   "source": [
    "#pip install --upgrade openai"
   ]
  },
  {
   "cell_type": "code",
   "execution_count": null,
   "metadata": {},
   "outputs": [],
   "source": [
    "#pip install python-dotenv"
   ]
  },
  {
   "cell_type": "markdown",
   "metadata": {},
   "source": [
    "## Gpt-4oでの画像Inputのサンプルコード\n",
    "\n",
    "https://zenn.dev/headwaters/articles/c8e785ac4193d0\n",
    "https://cookbook.openai.com/examples/gpt4o/introduction_to_gpt4o#current-api-capabilities\n"
   ]
  },
  {
   "cell_type": "code",
   "execution_count": null,
   "metadata": {},
   "outputs": [],
   "source": [
    "import os\n",
    "from openai import AzureOpenAI\n",
    "import base64\n",
    "\n",
    "# Open the image file and encode it as a base64 string\n",
    "def encode_image(image_path):\n",
    "    with open(image_path, \"rb\") as image_file:\n",
    "        return base64.b64encode(image_file.read()).decode(\"utf-8\")\n",
    "\n",
    "\n",
    "base64_image = encode_image(r\"data\\Arupaka.jpg\") #ファイルパスを入力\n",
    "\n",
    "client = AzureOpenAI(\n",
    "    api_key=\"\", # API Key を入力 \n",
    "    api_version=\"2024-02-15-preview\",\n",
    "    azure_endpoint = \"https://<Azure OpenAI Resource name>.openai.azure.com\" #Azure OpenAI エンドポイントURLを入力\n",
    "    )\n",
    "\n",
    "\n",
    "response = client.chat.completions.create(\n",
    "    model=\"gpt-4o\", # model = \"deployment_name\". Azure OpenAI Studio でデプロイメント名を記入\n",
    "    messages=[\n",
    "        {\"role\": \"system\", \"content\": \"あなたは画像解析アシスタントです。\"},\n",
    "        {\"role\": \"user\", \"content\": [\n",
    "            {\"type\": \"text\", \"text\": \"画像をできるだけ詳細に解説してください。また登場する動物の名前を当ててください。日本語で回答すること。\"},\n",
    "            {\"type\": \"image_url\", \"image_url\": {\n",
    "                \"url\": f\"data:image/jpg;base64,{base64_image}\"}\n",
    "            }\n",
    "        ]}\n",
    "    ]\n",
    "    #,temperature=0.0\n",
    ")\n",
    "\n",
    "print(response.choices[0].message.content)"
   ]
  }
 ],
 "metadata": {
  "kernelspec": {
   "display_name": "Python 3",
   "language": "python",
   "name": "python3"
  },
  "language_info": {
   "codemirror_mode": {
    "name": "ipython",
    "version": 3
   },
   "file_extension": ".py",
   "mimetype": "text/x-python",
   "name": "python",
   "nbconvert_exporter": "python",
   "pygments_lexer": "ipython3",
   "version": "3.12.4"
  }
 },
 "nbformat": 4,
 "nbformat_minor": 2
}
