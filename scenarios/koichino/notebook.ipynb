{
 "cells": [
  {
   "cell_type": "code",
   "execution_count": 13,
   "metadata": {},
   "outputs": [],
   "source": [
    "#%pip install plotly"
   ]
  },
  {
   "cell_type": "code",
   "execution_count": 1,
   "metadata": {},
   "outputs": [
    {
     "name": "stderr",
     "output_type": "stream",
     "text": [
      "<>:5: SyntaxWarning: invalid escape sequence '\\d'\n",
      "<>:5: SyntaxWarning: invalid escape sequence '\\d'\n",
      "C:\\Users\\koichino\\AppData\\Local\\Temp\\ipykernel_34020\\3011368738.py:5: SyntaxWarning: invalid escape sequence '\\d'\n",
      "  df = pd.read_csv('.\\data\\Population in Japan.csv')\n"
     ]
    },
    {
     "name": "stdout",
     "output_type": "stream",
     "text": [
      "  都道府県コード 都道府県名  元号  和暦（年）   西暦（年）    注    人口（総数）     人口（男）     人口（女）\n",
      "0      00    全国  大正    9.0  1920.0  NaN  55963053  28044185  27918868\n",
      "1      01   北海道  大正    9.0  1920.0  NaN   2359183   1244322   1114861\n",
      "2      02   青森県  大正    9.0  1920.0  NaN    756454    381293    375161\n",
      "3      03   岩手県  大正    9.0  1920.0  NaN    845540    421069    424471\n",
      "4      04   宮城県  大正    9.0  1920.0  NaN    961768    485309    476459\n"
     ]
    },
    {
     "data": {
      "application/vnd.plotly.v1+json": {
       "config": {
        "plotlyServerURL": "https://plot.ly"
       },
       "data": [
        {
         "alignmentgroup": "True",
         "hovertemplate": "都道府県名=%{y}<br>西暦（年）=1920.0<br>人口（総数）=%{x}<extra></extra>",
         "legendgroup": "秋田県",
         "marker": {
          "color": "#636efa",
          "pattern": {
           "shape": ""
          }
         },
         "name": "秋田県",
         "offsetgroup": "秋田県",
         "orientation": "h",
         "showlegend": true,
         "textposition": "auto",
         "type": "bar",
         "x": [
          898537
         ],
         "xaxis": "x",
         "y": [
          "秋田県"
         ],
         "yaxis": "y"
        },
        {
         "alignmentgroup": "True",
         "hovertemplate": "都道府県名=%{y}<br>西暦（年）=1920.0<br>人口（総数）=%{x}<extra></extra>",
         "legendgroup": "福井県",
         "marker": {
          "color": "#EF553B",
          "pattern": {
           "shape": ""
          }
         },
         "name": "福井県",
         "offsetgroup": "福井県",
         "orientation": "h",
         "showlegend": true,
         "textposition": "auto",
         "type": "bar",
         "x": [
          599155
         ],
         "xaxis": "x",
         "y": [
          "福井県"
         ],
         "yaxis": "y"
        },
        {
         "alignmentgroup": "True",
         "hovertemplate": "都道府県名=%{y}<br>西暦（年）=1920.0<br>人口（総数）=%{x}<extra></extra>",
         "legendgroup": "山梨県",
         "marker": {
          "color": "#00cc96",
          "pattern": {
           "shape": ""
          }
         },
         "name": "山梨県",
         "offsetgroup": "山梨県",
         "orientation": "h",
         "showlegend": true,
         "textposition": "auto",
         "type": "bar",
         "x": [
          583453
         ],
         "xaxis": "x",
         "y": [
          "山梨県"
         ],
         "yaxis": "y"
        },
        {
         "alignmentgroup": "True",
         "hovertemplate": "都道府県名=%{y}<br>西暦（年）=1920.0<br>人口（総数）=%{x}<extra></extra>",
         "legendgroup": "和歌山県",
         "marker": {
          "color": "#ab63fa",
          "pattern": {
           "shape": ""
          }
         },
         "name": "和歌山県",
         "offsetgroup": "和歌山県",
         "orientation": "h",
         "showlegend": true,
         "textposition": "auto",
         "type": "bar",
         "x": [
          750411
         ],
         "xaxis": "x",
         "y": [
          "和歌山県"
         ],
         "yaxis": "y"
        },
        {
         "alignmentgroup": "True",
         "hovertemplate": "都道府県名=%{y}<br>西暦（年）=1920.0<br>人口（総数）=%{x}<extra></extra>",
         "legendgroup": "鳥取県",
         "marker": {
          "color": "#FFA15A",
          "pattern": {
           "shape": ""
          }
         },
         "name": "鳥取県",
         "offsetgroup": "鳥取県",
         "orientation": "h",
         "showlegend": true,
         "textposition": "auto",
         "type": "bar",
         "x": [
          454675
         ],
         "xaxis": "x",
         "y": [
          "鳥取県"
         ],
         "yaxis": "y"
        },
        {
         "alignmentgroup": "True",
         "hovertemplate": "都道府県名=%{y}<br>西暦（年）=1920.0<br>人口（総数）=%{x}<extra></extra>",
         "legendgroup": "島根県",
         "marker": {
          "color": "#19d3f3",
          "pattern": {
           "shape": ""
          }
         },
         "name": "島根県",
         "offsetgroup": "島根県",
         "orientation": "h",
         "showlegend": true,
         "textposition": "auto",
         "type": "bar",
         "x": [
          714712
         ],
         "xaxis": "x",
         "y": [
          "島根県"
         ],
         "yaxis": "y"
        },
        {
         "alignmentgroup": "True",
         "hovertemplate": "都道府県名=%{y}<br>西暦（年）=1920.0<br>人口（総数）=%{x}<extra></extra>",
         "legendgroup": "徳島県",
         "marker": {
          "color": "#FF6692",
          "pattern": {
           "shape": ""
          }
         },
         "name": "徳島県",
         "offsetgroup": "徳島県",
         "orientation": "h",
         "showlegend": true,
         "textposition": "auto",
         "type": "bar",
         "x": [
          670212
         ],
         "xaxis": "x",
         "y": [
          "徳島県"
         ],
         "yaxis": "y"
        },
        {
         "alignmentgroup": "True",
         "hovertemplate": "都道府県名=%{y}<br>西暦（年）=1920.0<br>人口（総数）=%{x}<extra></extra>",
         "legendgroup": "香川県",
         "marker": {
          "color": "#B6E880",
          "pattern": {
           "shape": ""
          }
         },
         "name": "香川県",
         "offsetgroup": "香川県",
         "orientation": "h",
         "showlegend": true,
         "textposition": "auto",
         "type": "bar",
         "x": [
          677852
         ],
         "xaxis": "x",
         "y": [
          "香川県"
         ],
         "yaxis": "y"
        },
        {
         "alignmentgroup": "True",
         "hovertemplate": "都道府県名=%{y}<br>西暦（年）=1920.0<br>人口（総数）=%{x}<extra></extra>",
         "legendgroup": "高知県",
         "marker": {
          "color": "#FF97FF",
          "pattern": {
           "shape": ""
          }
         },
         "name": "高知県",
         "offsetgroup": "高知県",
         "orientation": "h",
         "showlegend": true,
         "textposition": "auto",
         "type": "bar",
         "x": [
          670895
         ],
         "xaxis": "x",
         "y": [
          "高知県"
         ],
         "yaxis": "y"
        },
        {
         "alignmentgroup": "True",
         "hovertemplate": "都道府県名=%{y}<br>西暦（年）=1920.0<br>人口（総数）=%{x}<extra></extra>",
         "legendgroup": "佐賀県",
         "marker": {
          "color": "#FECB52",
          "pattern": {
           "shape": ""
          }
         },
         "name": "佐賀県",
         "offsetgroup": "佐賀県",
         "orientation": "h",
         "showlegend": true,
         "textposition": "auto",
         "type": "bar",
         "x": [
          673895
         ],
         "xaxis": "x",
         "y": [
          "佐賀県"
         ],
         "yaxis": "y"
        }
       ],
       "frames": [
        {
         "data": [
          {
           "alignmentgroup": "True",
           "hovertemplate": "都道府県名=%{y}<br>西暦（年）=1920.0<br>人口（総数）=%{x}<extra></extra>",
           "legendgroup": "秋田県",
           "marker": {
            "color": "#636efa",
            "pattern": {
             "shape": ""
            }
           },
           "name": "秋田県",
           "offsetgroup": "秋田県",
           "orientation": "h",
           "showlegend": true,
           "textposition": "auto",
           "type": "bar",
           "x": [
            898537
           ],
           "xaxis": "x",
           "y": [
            "秋田県"
           ],
           "yaxis": "y"
          },
          {
           "alignmentgroup": "True",
           "hovertemplate": "都道府県名=%{y}<br>西暦（年）=1920.0<br>人口（総数）=%{x}<extra></extra>",
           "legendgroup": "福井県",
           "marker": {
            "color": "#EF553B",
            "pattern": {
             "shape": ""
            }
           },
           "name": "福井県",
           "offsetgroup": "福井県",
           "orientation": "h",
           "showlegend": true,
           "textposition": "auto",
           "type": "bar",
           "x": [
            599155
           ],
           "xaxis": "x",
           "y": [
            "福井県"
           ],
           "yaxis": "y"
          },
          {
           "alignmentgroup": "True",
           "hovertemplate": "都道府県名=%{y}<br>西暦（年）=1920.0<br>人口（総数）=%{x}<extra></extra>",
           "legendgroup": "山梨県",
           "marker": {
            "color": "#00cc96",
            "pattern": {
             "shape": ""
            }
           },
           "name": "山梨県",
           "offsetgroup": "山梨県",
           "orientation": "h",
           "showlegend": true,
           "textposition": "auto",
           "type": "bar",
           "x": [
            583453
           ],
           "xaxis": "x",
           "y": [
            "山梨県"
           ],
           "yaxis": "y"
          },
          {
           "alignmentgroup": "True",
           "hovertemplate": "都道府県名=%{y}<br>西暦（年）=1920.0<br>人口（総数）=%{x}<extra></extra>",
           "legendgroup": "和歌山県",
           "marker": {
            "color": "#ab63fa",
            "pattern": {
             "shape": ""
            }
           },
           "name": "和歌山県",
           "offsetgroup": "和歌山県",
           "orientation": "h",
           "showlegend": true,
           "textposition": "auto",
           "type": "bar",
           "x": [
            750411
           ],
           "xaxis": "x",
           "y": [
            "和歌山県"
           ],
           "yaxis": "y"
          },
          {
           "alignmentgroup": "True",
           "hovertemplate": "都道府県名=%{y}<br>西暦（年）=1920.0<br>人口（総数）=%{x}<extra></extra>",
           "legendgroup": "鳥取県",
           "marker": {
            "color": "#FFA15A",
            "pattern": {
             "shape": ""
            }
           },
           "name": "鳥取県",
           "offsetgroup": "鳥取県",
           "orientation": "h",
           "showlegend": true,
           "textposition": "auto",
           "type": "bar",
           "x": [
            454675
           ],
           "xaxis": "x",
           "y": [
            "鳥取県"
           ],
           "yaxis": "y"
          },
          {
           "alignmentgroup": "True",
           "hovertemplate": "都道府県名=%{y}<br>西暦（年）=1920.0<br>人口（総数）=%{x}<extra></extra>",
           "legendgroup": "島根県",
           "marker": {
            "color": "#19d3f3",
            "pattern": {
             "shape": ""
            }
           },
           "name": "島根県",
           "offsetgroup": "島根県",
           "orientation": "h",
           "showlegend": true,
           "textposition": "auto",
           "type": "bar",
           "x": [
            714712
           ],
           "xaxis": "x",
           "y": [
            "島根県"
           ],
           "yaxis": "y"
          },
          {
           "alignmentgroup": "True",
           "hovertemplate": "都道府県名=%{y}<br>西暦（年）=1920.0<br>人口（総数）=%{x}<extra></extra>",
           "legendgroup": "徳島県",
           "marker": {
            "color": "#FF6692",
            "pattern": {
             "shape": ""
            }
           },
           "name": "徳島県",
           "offsetgroup": "徳島県",
           "orientation": "h",
           "showlegend": true,
           "textposition": "auto",
           "type": "bar",
           "x": [
            670212
           ],
           "xaxis": "x",
           "y": [
            "徳島県"
           ],
           "yaxis": "y"
          },
          {
           "alignmentgroup": "True",
           "hovertemplate": "都道府県名=%{y}<br>西暦（年）=1920.0<br>人口（総数）=%{x}<extra></extra>",
           "legendgroup": "香川県",
           "marker": {
            "color": "#B6E880",
            "pattern": {
             "shape": ""
            }
           },
           "name": "香川県",
           "offsetgroup": "香川県",
           "orientation": "h",
           "showlegend": true,
           "textposition": "auto",
           "type": "bar",
           "x": [
            677852
           ],
           "xaxis": "x",
           "y": [
            "香川県"
           ],
           "yaxis": "y"
          },
          {
           "alignmentgroup": "True",
           "hovertemplate": "都道府県名=%{y}<br>西暦（年）=1920.0<br>人口（総数）=%{x}<extra></extra>",
           "legendgroup": "高知県",
           "marker": {
            "color": "#FF97FF",
            "pattern": {
             "shape": ""
            }
           },
           "name": "高知県",
           "offsetgroup": "高知県",
           "orientation": "h",
           "showlegend": true,
           "textposition": "auto",
           "type": "bar",
           "x": [
            670895
           ],
           "xaxis": "x",
           "y": [
            "高知県"
           ],
           "yaxis": "y"
          },
          {
           "alignmentgroup": "True",
           "hovertemplate": "都道府県名=%{y}<br>西暦（年）=1920.0<br>人口（総数）=%{x}<extra></extra>",
           "legendgroup": "佐賀県",
           "marker": {
            "color": "#FECB52",
            "pattern": {
             "shape": ""
            }
           },
           "name": "佐賀県",
           "offsetgroup": "佐賀県",
           "orientation": "h",
           "showlegend": true,
           "textposition": "auto",
           "type": "bar",
           "x": [
            673895
           ],
           "xaxis": "x",
           "y": [
            "佐賀県"
           ],
           "yaxis": "y"
          }
         ],
         "name": "1920.0"
        },
        {
         "data": [
          {
           "alignmentgroup": "True",
           "hovertemplate": "都道府県名=%{y}<br>西暦（年）=1925.0<br>人口（総数）=%{x}<extra></extra>",
           "legendgroup": "秋田県",
           "marker": {
            "color": "#636efa",
            "pattern": {
             "shape": ""
            }
           },
           "name": "秋田県",
           "offsetgroup": "秋田県",
           "orientation": "h",
           "showlegend": true,
           "textposition": "auto",
           "type": "bar",
           "x": [
            936408
           ],
           "xaxis": "x",
           "y": [
            "秋田県"
           ],
           "yaxis": "y"
          },
          {
           "alignmentgroup": "True",
           "hovertemplate": "都道府県名=%{y}<br>西暦（年）=1925.0<br>人口（総数）=%{x}<extra></extra>",
           "legendgroup": "福井県",
           "marker": {
            "color": "#EF553B",
            "pattern": {
             "shape": ""
            }
           },
           "name": "福井県",
           "offsetgroup": "福井県",
           "orientation": "h",
           "showlegend": true,
           "textposition": "auto",
           "type": "bar",
           "x": [
            597899
           ],
           "xaxis": "x",
           "y": [
            "福井県"
           ],
           "yaxis": "y"
          },
          {
           "alignmentgroup": "True",
           "hovertemplate": "都道府県名=%{y}<br>西暦（年）=1925.0<br>人口（総数）=%{x}<extra></extra>",
           "legendgroup": "山梨県",
           "marker": {
            "color": "#00cc96",
            "pattern": {
             "shape": ""
            }
           },
           "name": "山梨県",
           "offsetgroup": "山梨県",
           "orientation": "h",
           "showlegend": true,
           "textposition": "auto",
           "type": "bar",
           "x": [
            600675
           ],
           "xaxis": "x",
           "y": [
            "山梨県"
           ],
           "yaxis": "y"
          },
          {
           "alignmentgroup": "True",
           "hovertemplate": "都道府県名=%{y}<br>西暦（年）=1925.0<br>人口（総数）=%{x}<extra></extra>",
           "legendgroup": "和歌山県",
           "marker": {
            "color": "#ab63fa",
            "pattern": {
             "shape": ""
            }
           },
           "name": "和歌山県",
           "offsetgroup": "和歌山県",
           "orientation": "h",
           "showlegend": true,
           "textposition": "auto",
           "type": "bar",
           "x": [
            787511
           ],
           "xaxis": "x",
           "y": [
            "和歌山県"
           ],
           "yaxis": "y"
          },
          {
           "alignmentgroup": "True",
           "hovertemplate": "都道府県名=%{y}<br>西暦（年）=1925.0<br>人口（総数）=%{x}<extra></extra>",
           "legendgroup": "鳥取県",
           "marker": {
            "color": "#FFA15A",
            "pattern": {
             "shape": ""
            }
           },
           "name": "鳥取県",
           "offsetgroup": "鳥取県",
           "orientation": "h",
           "showlegend": true,
           "textposition": "auto",
           "type": "bar",
           "x": [
            472230
           ],
           "xaxis": "x",
           "y": [
            "鳥取県"
           ],
           "yaxis": "y"
          },
          {
           "alignmentgroup": "True",
           "hovertemplate": "都道府県名=%{y}<br>西暦（年）=1925.0<br>人口（総数）=%{x}<extra></extra>",
           "legendgroup": "島根県",
           "marker": {
            "color": "#19d3f3",
            "pattern": {
             "shape": ""
            }
           },
           "name": "島根県",
           "offsetgroup": "島根県",
           "orientation": "h",
           "showlegend": true,
           "textposition": "auto",
           "type": "bar",
           "x": [
            722402
           ],
           "xaxis": "x",
           "y": [
            "島根県"
           ],
           "yaxis": "y"
          },
          {
           "alignmentgroup": "True",
           "hovertemplate": "都道府県名=%{y}<br>西暦（年）=1925.0<br>人口（総数）=%{x}<extra></extra>",
           "legendgroup": "徳島県",
           "marker": {
            "color": "#FF6692",
            "pattern": {
             "shape": ""
            }
           },
           "name": "徳島県",
           "offsetgroup": "徳島県",
           "orientation": "h",
           "showlegend": true,
           "textposition": "auto",
           "type": "bar",
           "x": [
            689814
           ],
           "xaxis": "x",
           "y": [
            "徳島県"
           ],
           "yaxis": "y"
          },
          {
           "alignmentgroup": "True",
           "hovertemplate": "都道府県名=%{y}<br>西暦（年）=1925.0<br>人口（総数）=%{x}<extra></extra>",
           "legendgroup": "香川県",
           "marker": {
            "color": "#B6E880",
            "pattern": {
             "shape": ""
            }
           },
           "name": "香川県",
           "offsetgroup": "香川県",
           "orientation": "h",
           "showlegend": true,
           "textposition": "auto",
           "type": "bar",
           "x": [
            700308
           ],
           "xaxis": "x",
           "y": [
            "香川県"
           ],
           "yaxis": "y"
          },
          {
           "alignmentgroup": "True",
           "hovertemplate": "都道府県名=%{y}<br>西暦（年）=1925.0<br>人口（総数）=%{x}<extra></extra>",
           "legendgroup": "高知県",
           "marker": {
            "color": "#FF97FF",
            "pattern": {
             "shape": ""
            }
           },
           "name": "高知県",
           "offsetgroup": "高知県",
           "orientation": "h",
           "showlegend": true,
           "textposition": "auto",
           "type": "bar",
           "x": [
            687478
           ],
           "xaxis": "x",
           "y": [
            "高知県"
           ],
           "yaxis": "y"
          },
          {
           "alignmentgroup": "True",
           "hovertemplate": "都道府県名=%{y}<br>西暦（年）=1925.0<br>人口（総数）=%{x}<extra></extra>",
           "legendgroup": "佐賀県",
           "marker": {
            "color": "#FECB52",
            "pattern": {
             "shape": ""
            }
           },
           "name": "佐賀県",
           "offsetgroup": "佐賀県",
           "orientation": "h",
           "showlegend": true,
           "textposition": "auto",
           "type": "bar",
           "x": [
            684831
           ],
           "xaxis": "x",
           "y": [
            "佐賀県"
           ],
           "yaxis": "y"
          }
         ],
         "name": "1925.0"
        },
        {
         "data": [
          {
           "alignmentgroup": "True",
           "hovertemplate": "都道府県名=%{y}<br>西暦（年）=1930.0<br>人口（総数）=%{x}<extra></extra>",
           "legendgroup": "秋田県",
           "marker": {
            "color": "#636efa",
            "pattern": {
             "shape": ""
            }
           },
           "name": "秋田県",
           "offsetgroup": "秋田県",
           "orientation": "h",
           "showlegend": true,
           "textposition": "auto",
           "type": "bar",
           "x": [
            987706
           ],
           "xaxis": "x",
           "y": [
            "秋田県"
           ],
           "yaxis": "y"
          },
          {
           "alignmentgroup": "True",
           "hovertemplate": "都道府県名=%{y}<br>西暦（年）=1930.0<br>人口（総数）=%{x}<extra></extra>",
           "legendgroup": "福井県",
           "marker": {
            "color": "#EF553B",
            "pattern": {
             "shape": ""
            }
           },
           "name": "福井県",
           "offsetgroup": "福井県",
           "orientation": "h",
           "showlegend": true,
           "textposition": "auto",
           "type": "bar",
           "x": [
            618144
           ],
           "xaxis": "x",
           "y": [
            "福井県"
           ],
           "yaxis": "y"
          },
          {
           "alignmentgroup": "True",
           "hovertemplate": "都道府県名=%{y}<br>西暦（年）=1930.0<br>人口（総数）=%{x}<extra></extra>",
           "legendgroup": "山梨県",
           "marker": {
            "color": "#00cc96",
            "pattern": {
             "shape": ""
            }
           },
           "name": "山梨県",
           "offsetgroup": "山梨県",
           "orientation": "h",
           "showlegend": true,
           "textposition": "auto",
           "type": "bar",
           "x": [
            631042
           ],
           "xaxis": "x",
           "y": [
            "山梨県"
           ],
           "yaxis": "y"
          },
          {
           "alignmentgroup": "True",
           "hovertemplate": "都道府県名=%{y}<br>西暦（年）=1930.0<br>人口（総数）=%{x}<extra></extra>",
           "legendgroup": "和歌山県",
           "marker": {
            "color": "#ab63fa",
            "pattern": {
             "shape": ""
            }
           },
           "name": "和歌山県",
           "offsetgroup": "和歌山県",
           "orientation": "h",
           "showlegend": true,
           "textposition": "auto",
           "type": "bar",
           "x": [
            830748
           ],
           "xaxis": "x",
           "y": [
            "和歌山県"
           ],
           "yaxis": "y"
          },
          {
           "alignmentgroup": "True",
           "hovertemplate": "都道府県名=%{y}<br>西暦（年）=1930.0<br>人口（総数）=%{x}<extra></extra>",
           "legendgroup": "鳥取県",
           "marker": {
            "color": "#FFA15A",
            "pattern": {
             "shape": ""
            }
           },
           "name": "鳥取県",
           "offsetgroup": "鳥取県",
           "orientation": "h",
           "showlegend": true,
           "textposition": "auto",
           "type": "bar",
           "x": [
            489266
           ],
           "xaxis": "x",
           "y": [
            "鳥取県"
           ],
           "yaxis": "y"
          },
          {
           "alignmentgroup": "True",
           "hovertemplate": "都道府県名=%{y}<br>西暦（年）=1930.0<br>人口（総数）=%{x}<extra></extra>",
           "legendgroup": "島根県",
           "marker": {
            "color": "#19d3f3",
            "pattern": {
             "shape": ""
            }
           },
           "name": "島根県",
           "offsetgroup": "島根県",
           "orientation": "h",
           "showlegend": true,
           "textposition": "auto",
           "type": "bar",
           "x": [
            739507
           ],
           "xaxis": "x",
           "y": [
            "島根県"
           ],
           "yaxis": "y"
          },
          {
           "alignmentgroup": "True",
           "hovertemplate": "都道府県名=%{y}<br>西暦（年）=1930.0<br>人口（総数）=%{x}<extra></extra>",
           "legendgroup": "徳島県",
           "marker": {
            "color": "#FF6692",
            "pattern": {
             "shape": ""
            }
           },
           "name": "徳島県",
           "offsetgroup": "徳島県",
           "orientation": "h",
           "showlegend": true,
           "textposition": "auto",
           "type": "bar",
           "x": [
            716544
           ],
           "xaxis": "x",
           "y": [
            "徳島県"
           ],
           "yaxis": "y"
          },
          {
           "alignmentgroup": "True",
           "hovertemplate": "都道府県名=%{y}<br>西暦（年）=1930.0<br>人口（総数）=%{x}<extra></extra>",
           "legendgroup": "香川県",
           "marker": {
            "color": "#B6E880",
            "pattern": {
             "shape": ""
            }
           },
           "name": "香川県",
           "offsetgroup": "香川県",
           "orientation": "h",
           "showlegend": true,
           "textposition": "auto",
           "type": "bar",
           "x": [
            732816
           ],
           "xaxis": "x",
           "y": [
            "香川県"
           ],
           "yaxis": "y"
          },
          {
           "alignmentgroup": "True",
           "hovertemplate": "都道府県名=%{y}<br>西暦（年）=1930.0<br>人口（総数）=%{x}<extra></extra>",
           "legendgroup": "高知県",
           "marker": {
            "color": "#FF97FF",
            "pattern": {
             "shape": ""
            }
           },
           "name": "高知県",
           "offsetgroup": "高知県",
           "orientation": "h",
           "showlegend": true,
           "textposition": "auto",
           "type": "bar",
           "x": [
            718152
           ],
           "xaxis": "x",
           "y": [
            "高知県"
           ],
           "yaxis": "y"
          },
          {
           "alignmentgroup": "True",
           "hovertemplate": "都道府県名=%{y}<br>西暦（年）=1930.0<br>人口（総数）=%{x}<extra></extra>",
           "legendgroup": "佐賀県",
           "marker": {
            "color": "#FECB52",
            "pattern": {
             "shape": ""
            }
           },
           "name": "佐賀県",
           "offsetgroup": "佐賀県",
           "orientation": "h",
           "showlegend": true,
           "textposition": "auto",
           "type": "bar",
           "x": [
            691565
           ],
           "xaxis": "x",
           "y": [
            "佐賀県"
           ],
           "yaxis": "y"
          }
         ],
         "name": "1930.0"
        },
        {
         "data": [
          {
           "alignmentgroup": "True",
           "hovertemplate": "都道府県名=%{y}<br>西暦（年）=1935.0<br>人口（総数）=%{x}<extra></extra>",
           "legendgroup": "秋田県",
           "marker": {
            "color": "#636efa",
            "pattern": {
             "shape": ""
            }
           },
           "name": "秋田県",
           "offsetgroup": "秋田県",
           "orientation": "h",
           "showlegend": true,
           "textposition": "auto",
           "type": "bar",
           "x": [
            1037744
           ],
           "xaxis": "x",
           "y": [
            "秋田県"
           ],
           "yaxis": "y"
          },
          {
           "alignmentgroup": "True",
           "hovertemplate": "都道府県名=%{y}<br>西暦（年）=1935.0<br>人口（総数）=%{x}<extra></extra>",
           "legendgroup": "福井県",
           "marker": {
            "color": "#EF553B",
            "pattern": {
             "shape": ""
            }
           },
           "name": "福井県",
           "offsetgroup": "福井県",
           "orientation": "h",
           "showlegend": true,
           "textposition": "auto",
           "type": "bar",
           "x": [
            646659
           ],
           "xaxis": "x",
           "y": [
            "福井県"
           ],
           "yaxis": "y"
          },
          {
           "alignmentgroup": "True",
           "hovertemplate": "都道府県名=%{y}<br>西暦（年）=1935.0<br>人口（総数）=%{x}<extra></extra>",
           "legendgroup": "山梨県",
           "marker": {
            "color": "#00cc96",
            "pattern": {
             "shape": ""
            }
           },
           "name": "山梨県",
           "offsetgroup": "山梨県",
           "orientation": "h",
           "showlegend": true,
           "textposition": "auto",
           "type": "bar",
           "x": [
            646727
           ],
           "xaxis": "x",
           "y": [
            "山梨県"
           ],
           "yaxis": "y"
          },
          {
           "alignmentgroup": "True",
           "hovertemplate": "都道府県名=%{y}<br>西暦（年）=1935.0<br>人口（総数）=%{x}<extra></extra>",
           "legendgroup": "和歌山県",
           "marker": {
            "color": "#ab63fa",
            "pattern": {
             "shape": ""
            }
           },
           "name": "和歌山県",
           "offsetgroup": "和歌山県",
           "orientation": "h",
           "showlegend": true,
           "textposition": "auto",
           "type": "bar",
           "x": [
            864087
           ],
           "xaxis": "x",
           "y": [
            "和歌山県"
           ],
           "yaxis": "y"
          },
          {
           "alignmentgroup": "True",
           "hovertemplate": "都道府県名=%{y}<br>西暦（年）=1935.0<br>人口（総数）=%{x}<extra></extra>",
           "legendgroup": "鳥取県",
           "marker": {
            "color": "#FFA15A",
            "pattern": {
             "shape": ""
            }
           },
           "name": "鳥取県",
           "offsetgroup": "鳥取県",
           "orientation": "h",
           "showlegend": true,
           "textposition": "auto",
           "type": "bar",
           "x": [
            490461
           ],
           "xaxis": "x",
           "y": [
            "鳥取県"
           ],
           "yaxis": "y"
          },
          {
           "alignmentgroup": "True",
           "hovertemplate": "都道府県名=%{y}<br>西暦（年）=1935.0<br>人口（総数）=%{x}<extra></extra>",
           "legendgroup": "島根県",
           "marker": {
            "color": "#19d3f3",
            "pattern": {
             "shape": ""
            }
           },
           "name": "島根県",
           "offsetgroup": "島根県",
           "orientation": "h",
           "showlegend": true,
           "textposition": "auto",
           "type": "bar",
           "x": [
            747119
           ],
           "xaxis": "x",
           "y": [
            "島根県"
           ],
           "yaxis": "y"
          },
          {
           "alignmentgroup": "True",
           "hovertemplate": "都道府県名=%{y}<br>西暦（年）=1935.0<br>人口（総数）=%{x}<extra></extra>",
           "legendgroup": "徳島県",
           "marker": {
            "color": "#FF6692",
            "pattern": {
             "shape": ""
            }
           },
           "name": "徳島県",
           "offsetgroup": "徳島県",
           "orientation": "h",
           "showlegend": true,
           "textposition": "auto",
           "type": "bar",
           "x": [
            728748
           ],
           "xaxis": "x",
           "y": [
            "徳島県"
           ],
           "yaxis": "y"
          },
          {
           "alignmentgroup": "True",
           "hovertemplate": "都道府県名=%{y}<br>西暦（年）=1935.0<br>人口（総数）=%{x}<extra></extra>",
           "legendgroup": "香川県",
           "marker": {
            "color": "#B6E880",
            "pattern": {
             "shape": ""
            }
           },
           "name": "香川県",
           "offsetgroup": "香川県",
           "orientation": "h",
           "showlegend": true,
           "textposition": "auto",
           "type": "bar",
           "x": [
            748656
           ],
           "xaxis": "x",
           "y": [
            "香川県"
           ],
           "yaxis": "y"
          },
          {
           "alignmentgroup": "True",
           "hovertemplate": "都道府県名=%{y}<br>西暦（年）=1935.0<br>人口（総数）=%{x}<extra></extra>",
           "legendgroup": "高知県",
           "marker": {
            "color": "#FF97FF",
            "pattern": {
             "shape": ""
            }
           },
           "name": "高知県",
           "offsetgroup": "高知県",
           "orientation": "h",
           "showlegend": true,
           "textposition": "auto",
           "type": "bar",
           "x": [
            714980
           ],
           "xaxis": "x",
           "y": [
            "高知県"
           ],
           "yaxis": "y"
          },
          {
           "alignmentgroup": "True",
           "hovertemplate": "都道府県名=%{y}<br>西暦（年）=1935.0<br>人口（総数）=%{x}<extra></extra>",
           "legendgroup": "佐賀県",
           "marker": {
            "color": "#FECB52",
            "pattern": {
             "shape": ""
            }
           },
           "name": "佐賀県",
           "offsetgroup": "佐賀県",
           "orientation": "h",
           "showlegend": true,
           "textposition": "auto",
           "type": "bar",
           "x": [
            686117
           ],
           "xaxis": "x",
           "y": [
            "佐賀県"
           ],
           "yaxis": "y"
          }
         ],
         "name": "1935.0"
        },
        {
         "data": [
          {
           "alignmentgroup": "True",
           "hovertemplate": "都道府県名=%{y}<br>西暦（年）=1940.0<br>人口（総数）=%{x}<extra></extra>",
           "legendgroup": "秋田県",
           "marker": {
            "color": "#636efa",
            "pattern": {
             "shape": ""
            }
           },
           "name": "秋田県",
           "offsetgroup": "秋田県",
           "orientation": "h",
           "showlegend": true,
           "textposition": "auto",
           "type": "bar",
           "x": [
            1052275
           ],
           "xaxis": "x",
           "y": [
            "秋田県"
           ],
           "yaxis": "y"
          },
          {
           "alignmentgroup": "True",
           "hovertemplate": "都道府県名=%{y}<br>西暦（年）=1940.0<br>人口（総数）=%{x}<extra></extra>",
           "legendgroup": "福井県",
           "marker": {
            "color": "#EF553B",
            "pattern": {
             "shape": ""
            }
           },
           "name": "福井県",
           "offsetgroup": "福井県",
           "orientation": "h",
           "showlegend": true,
           "textposition": "auto",
           "type": "bar",
           "x": [
            643904
           ],
           "xaxis": "x",
           "y": [
            "福井県"
           ],
           "yaxis": "y"
          },
          {
           "alignmentgroup": "True",
           "hovertemplate": "都道府県名=%{y}<br>西暦（年）=1940.0<br>人口（総数）=%{x}<extra></extra>",
           "legendgroup": "山梨県",
           "marker": {
            "color": "#00cc96",
            "pattern": {
             "shape": ""
            }
           },
           "name": "山梨県",
           "offsetgroup": "山梨県",
           "orientation": "h",
           "showlegend": true,
           "textposition": "auto",
           "type": "bar",
           "x": [
            663026
           ],
           "xaxis": "x",
           "y": [
            "山梨県"
           ],
           "yaxis": "y"
          },
          {
           "alignmentgroup": "True",
           "hovertemplate": "都道府県名=%{y}<br>西暦（年）=1940.0<br>人口（総数）=%{x}<extra></extra>",
           "legendgroup": "和歌山県",
           "marker": {
            "color": "#ab63fa",
            "pattern": {
             "shape": ""
            }
           },
           "name": "和歌山県",
           "offsetgroup": "和歌山県",
           "orientation": "h",
           "showlegend": true,
           "textposition": "auto",
           "type": "bar",
           "x": [
            865074
           ],
           "xaxis": "x",
           "y": [
            "和歌山県"
           ],
           "yaxis": "y"
          },
          {
           "alignmentgroup": "True",
           "hovertemplate": "都道府県名=%{y}<br>西暦（年）=1940.0<br>人口（総数）=%{x}<extra></extra>",
           "legendgroup": "鳥取県",
           "marker": {
            "color": "#FFA15A",
            "pattern": {
             "shape": ""
            }
           },
           "name": "鳥取県",
           "offsetgroup": "鳥取県",
           "orientation": "h",
           "showlegend": true,
           "textposition": "auto",
           "type": "bar",
           "x": [
            484390
           ],
           "xaxis": "x",
           "y": [
            "鳥取県"
           ],
           "yaxis": "y"
          },
          {
           "alignmentgroup": "True",
           "hovertemplate": "都道府県名=%{y}<br>西暦（年）=1940.0<br>人口（総数）=%{x}<extra></extra>",
           "legendgroup": "島根県",
           "marker": {
            "color": "#19d3f3",
            "pattern": {
             "shape": ""
            }
           },
           "name": "島根県",
           "offsetgroup": "島根県",
           "orientation": "h",
           "showlegend": true,
           "textposition": "auto",
           "type": "bar",
           "x": [
            740940
           ],
           "xaxis": "x",
           "y": [
            "島根県"
           ],
           "yaxis": "y"
          },
          {
           "alignmentgroup": "True",
           "hovertemplate": "都道府県名=%{y}<br>西暦（年）=1940.0<br>人口（総数）=%{x}<extra></extra>",
           "legendgroup": "徳島県",
           "marker": {
            "color": "#FF6692",
            "pattern": {
             "shape": ""
            }
           },
           "name": "徳島県",
           "offsetgroup": "徳島県",
           "orientation": "h",
           "showlegend": true,
           "textposition": "auto",
           "type": "bar",
           "x": [
            718717
           ],
           "xaxis": "x",
           "y": [
            "徳島県"
           ],
           "yaxis": "y"
          },
          {
           "alignmentgroup": "True",
           "hovertemplate": "都道府県名=%{y}<br>西暦（年）=1940.0<br>人口（総数）=%{x}<extra></extra>",
           "legendgroup": "香川県",
           "marker": {
            "color": "#B6E880",
            "pattern": {
             "shape": ""
            }
           },
           "name": "香川県",
           "offsetgroup": "香川県",
           "orientation": "h",
           "showlegend": true,
           "textposition": "auto",
           "type": "bar",
           "x": [
            730394
           ],
           "xaxis": "x",
           "y": [
            "香川県"
           ],
           "yaxis": "y"
          },
          {
           "alignmentgroup": "True",
           "hovertemplate": "都道府県名=%{y}<br>西暦（年）=1940.0<br>人口（総数）=%{x}<extra></extra>",
           "legendgroup": "高知県",
           "marker": {
            "color": "#FF97FF",
            "pattern": {
             "shape": ""
            }
           },
           "name": "高知県",
           "offsetgroup": "高知県",
           "orientation": "h",
           "showlegend": true,
           "textposition": "auto",
           "type": "bar",
           "x": [
            709286
           ],
           "xaxis": "x",
           "y": [
            "高知県"
           ],
           "yaxis": "y"
          },
          {
           "alignmentgroup": "True",
           "hovertemplate": "都道府県名=%{y}<br>西暦（年）=1940.0<br>人口（総数）=%{x}<extra></extra>",
           "legendgroup": "佐賀県",
           "marker": {
            "color": "#FECB52",
            "pattern": {
             "shape": ""
            }
           },
           "name": "佐賀県",
           "offsetgroup": "佐賀県",
           "orientation": "h",
           "showlegend": true,
           "textposition": "auto",
           "type": "bar",
           "x": [
            701517
           ],
           "xaxis": "x",
           "y": [
            "佐賀県"
           ],
           "yaxis": "y"
          }
         ],
         "name": "1940.0"
        },
        {
         "data": [
          {
           "alignmentgroup": "True",
           "hovertemplate": "都道府県名=%{y}<br>西暦（年）=1945.0<br>人口（総数）=%{x}<extra></extra>",
           "legendgroup": "秋田県",
           "marker": {
            "color": "#636efa",
            "pattern": {
             "shape": ""
            }
           },
           "name": "秋田県",
           "offsetgroup": "秋田県",
           "orientation": "h",
           "showlegend": true,
           "textposition": "auto",
           "type": "bar",
           "x": [
            1211871
           ],
           "xaxis": "x",
           "y": [
            "秋田県"
           ],
           "yaxis": "y"
          },
          {
           "alignmentgroup": "True",
           "hovertemplate": "都道府県名=%{y}<br>西暦（年）=1945.0<br>人口（総数）=%{x}<extra></extra>",
           "legendgroup": "福井県",
           "marker": {
            "color": "#EF553B",
            "pattern": {
             "shape": ""
            }
           },
           "name": "福井県",
           "offsetgroup": "福井県",
           "orientation": "h",
           "showlegend": true,
           "textposition": "auto",
           "type": "bar",
           "x": [
            724856
           ],
           "xaxis": "x",
           "y": [
            "福井県"
           ],
           "yaxis": "y"
          },
          {
           "alignmentgroup": "True",
           "hovertemplate": "都道府県名=%{y}<br>西暦（年）=1945.0<br>人口（総数）=%{x}<extra></extra>",
           "legendgroup": "山梨県",
           "marker": {
            "color": "#00cc96",
            "pattern": {
             "shape": ""
            }
           },
           "name": "山梨県",
           "offsetgroup": "山梨県",
           "orientation": "h",
           "showlegend": true,
           "textposition": "auto",
           "type": "bar",
           "x": [
            839057
           ],
           "xaxis": "x",
           "y": [
            "山梨県"
           ],
           "yaxis": "y"
          },
          {
           "alignmentgroup": "True",
           "hovertemplate": "都道府県名=%{y}<br>西暦（年）=1945.0<br>人口（総数）=%{x}<extra></extra>",
           "legendgroup": "和歌山県",
           "marker": {
            "color": "#ab63fa",
            "pattern": {
             "shape": ""
            }
           },
           "name": "和歌山県",
           "offsetgroup": "和歌山県",
           "orientation": "h",
           "showlegend": true,
           "textposition": "auto",
           "type": "bar",
           "x": [
            936006
           ],
           "xaxis": "x",
           "y": [
            "和歌山県"
           ],
           "yaxis": "y"
          },
          {
           "alignmentgroup": "True",
           "hovertemplate": "都道府県名=%{y}<br>西暦（年）=1945.0<br>人口（総数）=%{x}<extra></extra>",
           "legendgroup": "鳥取県",
           "marker": {
            "color": "#FFA15A",
            "pattern": {
             "shape": ""
            }
           },
           "name": "鳥取県",
           "offsetgroup": "鳥取県",
           "orientation": "h",
           "showlegend": true,
           "textposition": "auto",
           "type": "bar",
           "x": [
            563220
           ],
           "xaxis": "x",
           "y": [
            "鳥取県"
           ],
           "yaxis": "y"
          },
          {
           "alignmentgroup": "True",
           "hovertemplate": "都道府県名=%{y}<br>西暦（年）=1945.0<br>人口（総数）=%{x}<extra></extra>",
           "legendgroup": "島根県",
           "marker": {
            "color": "#19d3f3",
            "pattern": {
             "shape": ""
            }
           },
           "name": "島根県",
           "offsetgroup": "島根県",
           "orientation": "h",
           "showlegend": true,
           "textposition": "auto",
           "type": "bar",
           "x": [
            860275
           ],
           "xaxis": "x",
           "y": [
            "島根県"
           ],
           "yaxis": "y"
          },
          {
           "alignmentgroup": "True",
           "hovertemplate": "都道府県名=%{y}<br>西暦（年）=1945.0<br>人口（総数）=%{x}<extra></extra>",
           "legendgroup": "徳島県",
           "marker": {
            "color": "#FF6692",
            "pattern": {
             "shape": ""
            }
           },
           "name": "徳島県",
           "offsetgroup": "徳島県",
           "orientation": "h",
           "showlegend": true,
           "textposition": "auto",
           "type": "bar",
           "x": [
            835763
           ],
           "xaxis": "x",
           "y": [
            "徳島県"
           ],
           "yaxis": "y"
          },
          {
           "alignmentgroup": "True",
           "hovertemplate": "都道府県名=%{y}<br>西暦（年）=1945.0<br>人口（総数）=%{x}<extra></extra>",
           "legendgroup": "香川県",
           "marker": {
            "color": "#B6E880",
            "pattern": {
             "shape": ""
            }
           },
           "name": "香川県",
           "offsetgroup": "香川県",
           "orientation": "h",
           "showlegend": true,
           "textposition": "auto",
           "type": "bar",
           "x": [
            863700
           ],
           "xaxis": "x",
           "y": [
            "香川県"
           ],
           "yaxis": "y"
          },
          {
           "alignmentgroup": "True",
           "hovertemplate": "都道府県名=%{y}<br>西暦（年）=1945.0<br>人口（総数）=%{x}<extra></extra>",
           "legendgroup": "高知県",
           "marker": {
            "color": "#FF97FF",
            "pattern": {
             "shape": ""
            }
           },
           "name": "高知県",
           "offsetgroup": "高知県",
           "orientation": "h",
           "showlegend": true,
           "textposition": "auto",
           "type": "bar",
           "x": [
            775578
           ],
           "xaxis": "x",
           "y": [
            "高知県"
           ],
           "yaxis": "y"
          },
          {
           "alignmentgroup": "True",
           "hovertemplate": "都道府県名=%{y}<br>西暦（年）=1945.0<br>人口（総数）=%{x}<extra></extra>",
           "legendgroup": "佐賀県",
           "marker": {
            "color": "#FECB52",
            "pattern": {
             "shape": ""
            }
           },
           "name": "佐賀県",
           "offsetgroup": "佐賀県",
           "orientation": "h",
           "showlegend": true,
           "textposition": "auto",
           "type": "bar",
           "x": [
            830431
           ],
           "xaxis": "x",
           "y": [
            "佐賀県"
           ],
           "yaxis": "y"
          }
         ],
         "name": "1945.0"
        },
        {
         "data": [
          {
           "alignmentgroup": "True",
           "hovertemplate": "都道府県名=%{y}<br>西暦（年）=1950.0<br>人口（総数）=%{x}<extra></extra>",
           "legendgroup": "秋田県",
           "marker": {
            "color": "#636efa",
            "pattern": {
             "shape": ""
            }
           },
           "name": "秋田県",
           "offsetgroup": "秋田県",
           "orientation": "h",
           "showlegend": true,
           "textposition": "auto",
           "type": "bar",
           "x": [
            1309031
           ],
           "xaxis": "x",
           "y": [
            "秋田県"
           ],
           "yaxis": "y"
          },
          {
           "alignmentgroup": "True",
           "hovertemplate": "都道府県名=%{y}<br>西暦（年）=1950.0<br>人口（総数）=%{x}<extra></extra>",
           "legendgroup": "福井県",
           "marker": {
            "color": "#EF553B",
            "pattern": {
             "shape": ""
            }
           },
           "name": "福井県",
           "offsetgroup": "福井県",
           "orientation": "h",
           "showlegend": true,
           "textposition": "auto",
           "type": "bar",
           "x": [
            752374
           ],
           "xaxis": "x",
           "y": [
            "福井県"
           ],
           "yaxis": "y"
          },
          {
           "alignmentgroup": "True",
           "hovertemplate": "都道府県名=%{y}<br>西暦（年）=1950.0<br>人口（総数）=%{x}<extra></extra>",
           "legendgroup": "山梨県",
           "marker": {
            "color": "#00cc96",
            "pattern": {
             "shape": ""
            }
           },
           "name": "山梨県",
           "offsetgroup": "山梨県",
           "orientation": "h",
           "showlegend": true,
           "textposition": "auto",
           "type": "bar",
           "x": [
            811369
           ],
           "xaxis": "x",
           "y": [
            "山梨県"
           ],
           "yaxis": "y"
          },
          {
           "alignmentgroup": "True",
           "hovertemplate": "都道府県名=%{y}<br>西暦（年）=1950.0<br>人口（総数）=%{x}<extra></extra>",
           "legendgroup": "和歌山県",
           "marker": {
            "color": "#ab63fa",
            "pattern": {
             "shape": ""
            }
           },
           "name": "和歌山県",
           "offsetgroup": "和歌山県",
           "orientation": "h",
           "showlegend": true,
           "textposition": "auto",
           "type": "bar",
           "x": [
            982113
           ],
           "xaxis": "x",
           "y": [
            "和歌山県"
           ],
           "yaxis": "y"
          },
          {
           "alignmentgroup": "True",
           "hovertemplate": "都道府県名=%{y}<br>西暦（年）=1950.0<br>人口（総数）=%{x}<extra></extra>",
           "legendgroup": "鳥取県",
           "marker": {
            "color": "#FFA15A",
            "pattern": {
             "shape": ""
            }
           },
           "name": "鳥取県",
           "offsetgroup": "鳥取県",
           "orientation": "h",
           "showlegend": true,
           "textposition": "auto",
           "type": "bar",
           "x": [
            600177
           ],
           "xaxis": "x",
           "y": [
            "鳥取県"
           ],
           "yaxis": "y"
          },
          {
           "alignmentgroup": "True",
           "hovertemplate": "都道府県名=%{y}<br>西暦（年）=1950.0<br>人口（総数）=%{x}<extra></extra>",
           "legendgroup": "島根県",
           "marker": {
            "color": "#19d3f3",
            "pattern": {
             "shape": ""
            }
           },
           "name": "島根県",
           "offsetgroup": "島根県",
           "orientation": "h",
           "showlegend": true,
           "textposition": "auto",
           "type": "bar",
           "x": [
            912551
           ],
           "xaxis": "x",
           "y": [
            "島根県"
           ],
           "yaxis": "y"
          },
          {
           "alignmentgroup": "True",
           "hovertemplate": "都道府県名=%{y}<br>西暦（年）=1950.0<br>人口（総数）=%{x}<extra></extra>",
           "legendgroup": "徳島県",
           "marker": {
            "color": "#FF6692",
            "pattern": {
             "shape": ""
            }
           },
           "name": "徳島県",
           "offsetgroup": "徳島県",
           "orientation": "h",
           "showlegend": true,
           "textposition": "auto",
           "type": "bar",
           "x": [
            878511
           ],
           "xaxis": "x",
           "y": [
            "徳島県"
           ],
           "yaxis": "y"
          },
          {
           "alignmentgroup": "True",
           "hovertemplate": "都道府県名=%{y}<br>西暦（年）=1950.0<br>人口（総数）=%{x}<extra></extra>",
           "legendgroup": "香川県",
           "marker": {
            "color": "#B6E880",
            "pattern": {
             "shape": ""
            }
           },
           "name": "香川県",
           "offsetgroup": "香川県",
           "orientation": "h",
           "showlegend": true,
           "textposition": "auto",
           "type": "bar",
           "x": [
            946022
           ],
           "xaxis": "x",
           "y": [
            "香川県"
           ],
           "yaxis": "y"
          },
          {
           "alignmentgroup": "True",
           "hovertemplate": "都道府県名=%{y}<br>西暦（年）=1950.0<br>人口（総数）=%{x}<extra></extra>",
           "legendgroup": "高知県",
           "marker": {
            "color": "#FF97FF",
            "pattern": {
             "shape": ""
            }
           },
           "name": "高知県",
           "offsetgroup": "高知県",
           "orientation": "h",
           "showlegend": true,
           "textposition": "auto",
           "type": "bar",
           "x": [
            873874
           ],
           "xaxis": "x",
           "y": [
            "高知県"
           ],
           "yaxis": "y"
          },
          {
           "alignmentgroup": "True",
           "hovertemplate": "都道府県名=%{y}<br>西暦（年）=1950.0<br>人口（総数）=%{x}<extra></extra>",
           "legendgroup": "佐賀県",
           "marker": {
            "color": "#FECB52",
            "pattern": {
             "shape": ""
            }
           },
           "name": "佐賀県",
           "offsetgroup": "佐賀県",
           "orientation": "h",
           "showlegend": true,
           "textposition": "auto",
           "type": "bar",
           "x": [
            945082
           ],
           "xaxis": "x",
           "y": [
            "佐賀県"
           ],
           "yaxis": "y"
          }
         ],
         "name": "1950.0"
        },
        {
         "data": [
          {
           "alignmentgroup": "True",
           "hovertemplate": "都道府県名=%{y}<br>西暦（年）=1955.0<br>人口（総数）=%{x}<extra></extra>",
           "legendgroup": "秋田県",
           "marker": {
            "color": "#636efa",
            "pattern": {
             "shape": ""
            }
           },
           "name": "秋田県",
           "offsetgroup": "秋田県",
           "orientation": "h",
           "showlegend": true,
           "textposition": "auto",
           "type": "bar",
           "x": [
            1348871
           ],
           "xaxis": "x",
           "y": [
            "秋田県"
           ],
           "yaxis": "y"
          },
          {
           "alignmentgroup": "True",
           "hovertemplate": "都道府県名=%{y}<br>西暦（年）=1955.0<br>人口（総数）=%{x}<extra></extra>",
           "legendgroup": "福井県",
           "marker": {
            "color": "#EF553B",
            "pattern": {
             "shape": ""
            }
           },
           "name": "福井県",
           "offsetgroup": "福井県",
           "orientation": "h",
           "showlegend": true,
           "textposition": "auto",
           "type": "bar",
           "x": [
            754055
           ],
           "xaxis": "x",
           "y": [
            "福井県"
           ],
           "yaxis": "y"
          },
          {
           "alignmentgroup": "True",
           "hovertemplate": "都道府県名=%{y}<br>西暦（年）=1955.0<br>人口（総数）=%{x}<extra></extra>",
           "legendgroup": "山梨県",
           "marker": {
            "color": "#00cc96",
            "pattern": {
             "shape": ""
            }
           },
           "name": "山梨県",
           "offsetgroup": "山梨県",
           "orientation": "h",
           "showlegend": true,
           "textposition": "auto",
           "type": "bar",
           "x": [
            807044
           ],
           "xaxis": "x",
           "y": [
            "山梨県"
           ],
           "yaxis": "y"
          },
          {
           "alignmentgroup": "True",
           "hovertemplate": "都道府県名=%{y}<br>西暦（年）=1955.0<br>人口（総数）=%{x}<extra></extra>",
           "legendgroup": "和歌山県",
           "marker": {
            "color": "#ab63fa",
            "pattern": {
             "shape": ""
            }
           },
           "name": "和歌山県",
           "offsetgroup": "和歌山県",
           "orientation": "h",
           "showlegend": true,
           "textposition": "auto",
           "type": "bar",
           "x": [
            1006819
           ],
           "xaxis": "x",
           "y": [
            "和歌山県"
           ],
           "yaxis": "y"
          },
          {
           "alignmentgroup": "True",
           "hovertemplate": "都道府県名=%{y}<br>西暦（年）=1955.0<br>人口（総数）=%{x}<extra></extra>",
           "legendgroup": "鳥取県",
           "marker": {
            "color": "#FFA15A",
            "pattern": {
             "shape": ""
            }
           },
           "name": "鳥取県",
           "offsetgroup": "鳥取県",
           "orientation": "h",
           "showlegend": true,
           "textposition": "auto",
           "type": "bar",
           "x": [
            614259
           ],
           "xaxis": "x",
           "y": [
            "鳥取県"
           ],
           "yaxis": "y"
          },
          {
           "alignmentgroup": "True",
           "hovertemplate": "都道府県名=%{y}<br>西暦（年）=1955.0<br>人口（総数）=%{x}<extra></extra>",
           "legendgroup": "島根県",
           "marker": {
            "color": "#19d3f3",
            "pattern": {
             "shape": ""
            }
           },
           "name": "島根県",
           "offsetgroup": "島根県",
           "orientation": "h",
           "showlegend": true,
           "textposition": "auto",
           "type": "bar",
           "x": [
            929066
           ],
           "xaxis": "x",
           "y": [
            "島根県"
           ],
           "yaxis": "y"
          },
          {
           "alignmentgroup": "True",
           "hovertemplate": "都道府県名=%{y}<br>西暦（年）=1955.0<br>人口（総数）=%{x}<extra></extra>",
           "legendgroup": "徳島県",
           "marker": {
            "color": "#FF6692",
            "pattern": {
             "shape": ""
            }
           },
           "name": "徳島県",
           "offsetgroup": "徳島県",
           "orientation": "h",
           "showlegend": true,
           "textposition": "auto",
           "type": "bar",
           "x": [
            878109
           ],
           "xaxis": "x",
           "y": [
            "徳島県"
           ],
           "yaxis": "y"
          },
          {
           "alignmentgroup": "True",
           "hovertemplate": "都道府県名=%{y}<br>西暦（年）=1955.0<br>人口（総数）=%{x}<extra></extra>",
           "legendgroup": "香川県",
           "marker": {
            "color": "#B6E880",
            "pattern": {
             "shape": ""
            }
           },
           "name": "香川県",
           "offsetgroup": "香川県",
           "orientation": "h",
           "showlegend": true,
           "textposition": "auto",
           "type": "bar",
           "x": [
            943823
           ],
           "xaxis": "x",
           "y": [
            "香川県"
           ],
           "yaxis": "y"
          },
          {
           "alignmentgroup": "True",
           "hovertemplate": "都道府県名=%{y}<br>西暦（年）=1955.0<br>人口（総数）=%{x}<extra></extra>",
           "legendgroup": "高知県",
           "marker": {
            "color": "#FF97FF",
            "pattern": {
             "shape": ""
            }
           },
           "name": "高知県",
           "offsetgroup": "高知県",
           "orientation": "h",
           "showlegend": true,
           "textposition": "auto",
           "type": "bar",
           "x": [
            882683
           ],
           "xaxis": "x",
           "y": [
            "高知県"
           ],
           "yaxis": "y"
          },
          {
           "alignmentgroup": "True",
           "hovertemplate": "都道府県名=%{y}<br>西暦（年）=1955.0<br>人口（総数）=%{x}<extra></extra>",
           "legendgroup": "佐賀県",
           "marker": {
            "color": "#FECB52",
            "pattern": {
             "shape": ""
            }
           },
           "name": "佐賀県",
           "offsetgroup": "佐賀県",
           "orientation": "h",
           "showlegend": true,
           "textposition": "auto",
           "type": "bar",
           "x": [
            973749
           ],
           "xaxis": "x",
           "y": [
            "佐賀県"
           ],
           "yaxis": "y"
          }
         ],
         "name": "1955.0"
        },
        {
         "data": [
          {
           "alignmentgroup": "True",
           "hovertemplate": "都道府県名=%{y}<br>西暦（年）=1960.0<br>人口（総数）=%{x}<extra></extra>",
           "legendgroup": "秋田県",
           "marker": {
            "color": "#636efa",
            "pattern": {
             "shape": ""
            }
           },
           "name": "秋田県",
           "offsetgroup": "秋田県",
           "orientation": "h",
           "showlegend": true,
           "textposition": "auto",
           "type": "bar",
           "x": [
            1335580
           ],
           "xaxis": "x",
           "y": [
            "秋田県"
           ],
           "yaxis": "y"
          },
          {
           "alignmentgroup": "True",
           "hovertemplate": "都道府県名=%{y}<br>西暦（年）=1960.0<br>人口（総数）=%{x}<extra></extra>",
           "legendgroup": "福井県",
           "marker": {
            "color": "#EF553B",
            "pattern": {
             "shape": ""
            }
           },
           "name": "福井県",
           "offsetgroup": "福井県",
           "orientation": "h",
           "showlegend": true,
           "textposition": "auto",
           "type": "bar",
           "x": [
            752696
           ],
           "xaxis": "x",
           "y": [
            "福井県"
           ],
           "yaxis": "y"
          },
          {
           "alignmentgroup": "True",
           "hovertemplate": "都道府県名=%{y}<br>西暦（年）=1960.0<br>人口（総数）=%{x}<extra></extra>",
           "legendgroup": "山梨県",
           "marker": {
            "color": "#00cc96",
            "pattern": {
             "shape": ""
            }
           },
           "name": "山梨県",
           "offsetgroup": "山梨県",
           "orientation": "h",
           "showlegend": true,
           "textposition": "auto",
           "type": "bar",
           "x": [
            782062
           ],
           "xaxis": "x",
           "y": [
            "山梨県"
           ],
           "yaxis": "y"
          },
          {
           "alignmentgroup": "True",
           "hovertemplate": "都道府県名=%{y}<br>西暦（年）=1960.0<br>人口（総数）=%{x}<extra></extra>",
           "legendgroup": "和歌山県",
           "marker": {
            "color": "#ab63fa",
            "pattern": {
             "shape": ""
            }
           },
           "name": "和歌山県",
           "offsetgroup": "和歌山県",
           "orientation": "h",
           "showlegend": true,
           "textposition": "auto",
           "type": "bar",
           "x": [
            1002191
           ],
           "xaxis": "x",
           "y": [
            "和歌山県"
           ],
           "yaxis": "y"
          },
          {
           "alignmentgroup": "True",
           "hovertemplate": "都道府県名=%{y}<br>西暦（年）=1960.0<br>人口（総数）=%{x}<extra></extra>",
           "legendgroup": "鳥取県",
           "marker": {
            "color": "#FFA15A",
            "pattern": {
             "shape": ""
            }
           },
           "name": "鳥取県",
           "offsetgroup": "鳥取県",
           "orientation": "h",
           "showlegend": true,
           "textposition": "auto",
           "type": "bar",
           "x": [
            599135
           ],
           "xaxis": "x",
           "y": [
            "鳥取県"
           ],
           "yaxis": "y"
          },
          {
           "alignmentgroup": "True",
           "hovertemplate": "都道府県名=%{y}<br>西暦（年）=1960.0<br>人口（総数）=%{x}<extra></extra>",
           "legendgroup": "島根県",
           "marker": {
            "color": "#19d3f3",
            "pattern": {
             "shape": ""
            }
           },
           "name": "島根県",
           "offsetgroup": "島根県",
           "orientation": "h",
           "showlegend": true,
           "textposition": "auto",
           "type": "bar",
           "x": [
            888886
           ],
           "xaxis": "x",
           "y": [
            "島根県"
           ],
           "yaxis": "y"
          },
          {
           "alignmentgroup": "True",
           "hovertemplate": "都道府県名=%{y}<br>西暦（年）=1960.0<br>人口（総数）=%{x}<extra></extra>",
           "legendgroup": "徳島県",
           "marker": {
            "color": "#FF6692",
            "pattern": {
             "shape": ""
            }
           },
           "name": "徳島県",
           "offsetgroup": "徳島県",
           "orientation": "h",
           "showlegend": true,
           "textposition": "auto",
           "type": "bar",
           "x": [
            847274
           ],
           "xaxis": "x",
           "y": [
            "徳島県"
           ],
           "yaxis": "y"
          },
          {
           "alignmentgroup": "True",
           "hovertemplate": "都道府県名=%{y}<br>西暦（年）=1960.0<br>人口（総数）=%{x}<extra></extra>",
           "legendgroup": "香川県",
           "marker": {
            "color": "#B6E880",
            "pattern": {
             "shape": ""
            }
           },
           "name": "香川県",
           "offsetgroup": "香川県",
           "orientation": "h",
           "showlegend": true,
           "textposition": "auto",
           "type": "bar",
           "x": [
            918867
           ],
           "xaxis": "x",
           "y": [
            "香川県"
           ],
           "yaxis": "y"
          },
          {
           "alignmentgroup": "True",
           "hovertemplate": "都道府県名=%{y}<br>西暦（年）=1960.0<br>人口（総数）=%{x}<extra></extra>",
           "legendgroup": "高知県",
           "marker": {
            "color": "#FF97FF",
            "pattern": {
             "shape": ""
            }
           },
           "name": "高知県",
           "offsetgroup": "高知県",
           "orientation": "h",
           "showlegend": true,
           "textposition": "auto",
           "type": "bar",
           "x": [
            854595
           ],
           "xaxis": "x",
           "y": [
            "高知県"
           ],
           "yaxis": "y"
          },
          {
           "alignmentgroup": "True",
           "hovertemplate": "都道府県名=%{y}<br>西暦（年）=1960.0<br>人口（総数）=%{x}<extra></extra>",
           "legendgroup": "佐賀県",
           "marker": {
            "color": "#FECB52",
            "pattern": {
             "shape": ""
            }
           },
           "name": "佐賀県",
           "offsetgroup": "佐賀県",
           "orientation": "h",
           "showlegend": true,
           "textposition": "auto",
           "type": "bar",
           "x": [
            942874
           ],
           "xaxis": "x",
           "y": [
            "佐賀県"
           ],
           "yaxis": "y"
          }
         ],
         "name": "1960.0"
        },
        {
         "data": [
          {
           "alignmentgroup": "True",
           "hovertemplate": "都道府県名=%{y}<br>西暦（年）=1965.0<br>人口（総数）=%{x}<extra></extra>",
           "legendgroup": "秋田県",
           "marker": {
            "color": "#636efa",
            "pattern": {
             "shape": ""
            }
           },
           "name": "秋田県",
           "offsetgroup": "秋田県",
           "orientation": "h",
           "showlegend": true,
           "textposition": "auto",
           "type": "bar",
           "x": [
            1279835
           ],
           "xaxis": "x",
           "y": [
            "秋田県"
           ],
           "yaxis": "y"
          },
          {
           "alignmentgroup": "True",
           "hovertemplate": "都道府県名=%{y}<br>西暦（年）=1965.0<br>人口（総数）=%{x}<extra></extra>",
           "legendgroup": "福井県",
           "marker": {
            "color": "#EF553B",
            "pattern": {
             "shape": ""
            }
           },
           "name": "福井県",
           "offsetgroup": "福井県",
           "orientation": "h",
           "showlegend": true,
           "textposition": "auto",
           "type": "bar",
           "x": [
            750557
           ],
           "xaxis": "x",
           "y": [
            "福井県"
           ],
           "yaxis": "y"
          },
          {
           "alignmentgroup": "True",
           "hovertemplate": "都道府県名=%{y}<br>西暦（年）=1965.0<br>人口（総数）=%{x}<extra></extra>",
           "legendgroup": "山梨県",
           "marker": {
            "color": "#00cc96",
            "pattern": {
             "shape": ""
            }
           },
           "name": "山梨県",
           "offsetgroup": "山梨県",
           "orientation": "h",
           "showlegend": true,
           "textposition": "auto",
           "type": "bar",
           "x": [
            763194
           ],
           "xaxis": "x",
           "y": [
            "山梨県"
           ],
           "yaxis": "y"
          },
          {
           "alignmentgroup": "True",
           "hovertemplate": "都道府県名=%{y}<br>西暦（年）=1965.0<br>人口（総数）=%{x}<extra></extra>",
           "legendgroup": "和歌山県",
           "marker": {
            "color": "#ab63fa",
            "pattern": {
             "shape": ""
            }
           },
           "name": "和歌山県",
           "offsetgroup": "和歌山県",
           "orientation": "h",
           "showlegend": true,
           "textposition": "auto",
           "type": "bar",
           "x": [
            1026975
           ],
           "xaxis": "x",
           "y": [
            "和歌山県"
           ],
           "yaxis": "y"
          },
          {
           "alignmentgroup": "True",
           "hovertemplate": "都道府県名=%{y}<br>西暦（年）=1965.0<br>人口（総数）=%{x}<extra></extra>",
           "legendgroup": "鳥取県",
           "marker": {
            "color": "#FFA15A",
            "pattern": {
             "shape": ""
            }
           },
           "name": "鳥取県",
           "offsetgroup": "鳥取県",
           "orientation": "h",
           "showlegend": true,
           "textposition": "auto",
           "type": "bar",
           "x": [
            579853
           ],
           "xaxis": "x",
           "y": [
            "鳥取県"
           ],
           "yaxis": "y"
          },
          {
           "alignmentgroup": "True",
           "hovertemplate": "都道府県名=%{y}<br>西暦（年）=1965.0<br>人口（総数）=%{x}<extra></extra>",
           "legendgroup": "島根県",
           "marker": {
            "color": "#19d3f3",
            "pattern": {
             "shape": ""
            }
           },
           "name": "島根県",
           "offsetgroup": "島根県",
           "orientation": "h",
           "showlegend": true,
           "textposition": "auto",
           "type": "bar",
           "x": [
            821620
           ],
           "xaxis": "x",
           "y": [
            "島根県"
           ],
           "yaxis": "y"
          },
          {
           "alignmentgroup": "True",
           "hovertemplate": "都道府県名=%{y}<br>西暦（年）=1965.0<br>人口（総数）=%{x}<extra></extra>",
           "legendgroup": "徳島県",
           "marker": {
            "color": "#FF6692",
            "pattern": {
             "shape": ""
            }
           },
           "name": "徳島県",
           "offsetgroup": "徳島県",
           "orientation": "h",
           "showlegend": true,
           "textposition": "auto",
           "type": "bar",
           "x": [
            815115
           ],
           "xaxis": "x",
           "y": [
            "徳島県"
           ],
           "yaxis": "y"
          },
          {
           "alignmentgroup": "True",
           "hovertemplate": "都道府県名=%{y}<br>西暦（年）=1965.0<br>人口（総数）=%{x}<extra></extra>",
           "legendgroup": "香川県",
           "marker": {
            "color": "#B6E880",
            "pattern": {
             "shape": ""
            }
           },
           "name": "香川県",
           "offsetgroup": "香川県",
           "orientation": "h",
           "showlegend": true,
           "textposition": "auto",
           "type": "bar",
           "x": [
            900845
           ],
           "xaxis": "x",
           "y": [
            "香川県"
           ],
           "yaxis": "y"
          },
          {
           "alignmentgroup": "True",
           "hovertemplate": "都道府県名=%{y}<br>西暦（年）=1965.0<br>人口（総数）=%{x}<extra></extra>",
           "legendgroup": "高知県",
           "marker": {
            "color": "#FF97FF",
            "pattern": {
             "shape": ""
            }
           },
           "name": "高知県",
           "offsetgroup": "高知県",
           "orientation": "h",
           "showlegend": true,
           "textposition": "auto",
           "type": "bar",
           "x": [
            812714
           ],
           "xaxis": "x",
           "y": [
            "高知県"
           ],
           "yaxis": "y"
          },
          {
           "alignmentgroup": "True",
           "hovertemplate": "都道府県名=%{y}<br>西暦（年）=1965.0<br>人口（総数）=%{x}<extra></extra>",
           "legendgroup": "佐賀県",
           "marker": {
            "color": "#FECB52",
            "pattern": {
             "shape": ""
            }
           },
           "name": "佐賀県",
           "offsetgroup": "佐賀県",
           "orientation": "h",
           "showlegend": true,
           "textposition": "auto",
           "type": "bar",
           "x": [
            871885
           ],
           "xaxis": "x",
           "y": [
            "佐賀県"
           ],
           "yaxis": "y"
          }
         ],
         "name": "1965.0"
        },
        {
         "data": [
          {
           "alignmentgroup": "True",
           "hovertemplate": "都道府県名=%{y}<br>西暦（年）=1970.0<br>人口（総数）=%{x}<extra></extra>",
           "legendgroup": "秋田県",
           "marker": {
            "color": "#636efa",
            "pattern": {
             "shape": ""
            }
           },
           "name": "秋田県",
           "offsetgroup": "秋田県",
           "orientation": "h",
           "showlegend": true,
           "textposition": "auto",
           "type": "bar",
           "x": [
            1241376
           ],
           "xaxis": "x",
           "y": [
            "秋田県"
           ],
           "yaxis": "y"
          },
          {
           "alignmentgroup": "True",
           "hovertemplate": "都道府県名=%{y}<br>西暦（年）=1970.0<br>人口（総数）=%{x}<extra></extra>",
           "legendgroup": "福井県",
           "marker": {
            "color": "#EF553B",
            "pattern": {
             "shape": ""
            }
           },
           "name": "福井県",
           "offsetgroup": "福井県",
           "orientation": "h",
           "showlegend": true,
           "textposition": "auto",
           "type": "bar",
           "x": [
            744230
           ],
           "xaxis": "x",
           "y": [
            "福井県"
           ],
           "yaxis": "y"
          },
          {
           "alignmentgroup": "True",
           "hovertemplate": "都道府県名=%{y}<br>西暦（年）=1970.0<br>人口（総数）=%{x}<extra></extra>",
           "legendgroup": "山梨県",
           "marker": {
            "color": "#00cc96",
            "pattern": {
             "shape": ""
            }
           },
           "name": "山梨県",
           "offsetgroup": "山梨県",
           "orientation": "h",
           "showlegend": true,
           "textposition": "auto",
           "type": "bar",
           "x": [
            762029
           ],
           "xaxis": "x",
           "y": [
            "山梨県"
           ],
           "yaxis": "y"
          },
          {
           "alignmentgroup": "True",
           "hovertemplate": "都道府県名=%{y}<br>西暦（年）=1970.0<br>人口（総数）=%{x}<extra></extra>",
           "legendgroup": "和歌山県",
           "marker": {
            "color": "#ab63fa",
            "pattern": {
             "shape": ""
            }
           },
           "name": "和歌山県",
           "offsetgroup": "和歌山県",
           "orientation": "h",
           "showlegend": true,
           "textposition": "auto",
           "type": "bar",
           "x": [
            1042736
           ],
           "xaxis": "x",
           "y": [
            "和歌山県"
           ],
           "yaxis": "y"
          },
          {
           "alignmentgroup": "True",
           "hovertemplate": "都道府県名=%{y}<br>西暦（年）=1970.0<br>人口（総数）=%{x}<extra></extra>",
           "legendgroup": "鳥取県",
           "marker": {
            "color": "#FFA15A",
            "pattern": {
             "shape": ""
            }
           },
           "name": "鳥取県",
           "offsetgroup": "鳥取県",
           "orientation": "h",
           "showlegend": true,
           "textposition": "auto",
           "type": "bar",
           "x": [
            568777
           ],
           "xaxis": "x",
           "y": [
            "鳥取県"
           ],
           "yaxis": "y"
          },
          {
           "alignmentgroup": "True",
           "hovertemplate": "都道府県名=%{y}<br>西暦（年）=1970.0<br>人口（総数）=%{x}<extra></extra>",
           "legendgroup": "島根県",
           "marker": {
            "color": "#19d3f3",
            "pattern": {
             "shape": ""
            }
           },
           "name": "島根県",
           "offsetgroup": "島根県",
           "orientation": "h",
           "showlegend": true,
           "textposition": "auto",
           "type": "bar",
           "x": [
            773575
           ],
           "xaxis": "x",
           "y": [
            "島根県"
           ],
           "yaxis": "y"
          },
          {
           "alignmentgroup": "True",
           "hovertemplate": "都道府県名=%{y}<br>西暦（年）=1970.0<br>人口（総数）=%{x}<extra></extra>",
           "legendgroup": "徳島県",
           "marker": {
            "color": "#FF6692",
            "pattern": {
             "shape": ""
            }
           },
           "name": "徳島県",
           "offsetgroup": "徳島県",
           "orientation": "h",
           "showlegend": true,
           "textposition": "auto",
           "type": "bar",
           "x": [
            791111
           ],
           "xaxis": "x",
           "y": [
            "徳島県"
           ],
           "yaxis": "y"
          },
          {
           "alignmentgroup": "True",
           "hovertemplate": "都道府県名=%{y}<br>西暦（年）=1970.0<br>人口（総数）=%{x}<extra></extra>",
           "legendgroup": "香川県",
           "marker": {
            "color": "#B6E880",
            "pattern": {
             "shape": ""
            }
           },
           "name": "香川県",
           "offsetgroup": "香川県",
           "orientation": "h",
           "showlegend": true,
           "textposition": "auto",
           "type": "bar",
           "x": [
            907897
           ],
           "xaxis": "x",
           "y": [
            "香川県"
           ],
           "yaxis": "y"
          },
          {
           "alignmentgroup": "True",
           "hovertemplate": "都道府県名=%{y}<br>西暦（年）=1970.0<br>人口（総数）=%{x}<extra></extra>",
           "legendgroup": "高知県",
           "marker": {
            "color": "#FF97FF",
            "pattern": {
             "shape": ""
            }
           },
           "name": "高知県",
           "offsetgroup": "高知県",
           "orientation": "h",
           "showlegend": true,
           "textposition": "auto",
           "type": "bar",
           "x": [
            786882
           ],
           "xaxis": "x",
           "y": [
            "高知県"
           ],
           "yaxis": "y"
          },
          {
           "alignmentgroup": "True",
           "hovertemplate": "都道府県名=%{y}<br>西暦（年）=1970.0<br>人口（総数）=%{x}<extra></extra>",
           "legendgroup": "佐賀県",
           "marker": {
            "color": "#FECB52",
            "pattern": {
             "shape": ""
            }
           },
           "name": "佐賀県",
           "offsetgroup": "佐賀県",
           "orientation": "h",
           "showlegend": true,
           "textposition": "auto",
           "type": "bar",
           "x": [
            838468
           ],
           "xaxis": "x",
           "y": [
            "佐賀県"
           ],
           "yaxis": "y"
          }
         ],
         "name": "1970.0"
        },
        {
         "data": [
          {
           "alignmentgroup": "True",
           "hovertemplate": "都道府県名=%{y}<br>西暦（年）=1975.0<br>人口（総数）=%{x}<extra></extra>",
           "legendgroup": "秋田県",
           "marker": {
            "color": "#636efa",
            "pattern": {
             "shape": ""
            }
           },
           "name": "秋田県",
           "offsetgroup": "秋田県",
           "orientation": "h",
           "showlegend": true,
           "textposition": "auto",
           "type": "bar",
           "x": [
            1232481
           ],
           "xaxis": "x",
           "y": [
            "秋田県"
           ],
           "yaxis": "y"
          },
          {
           "alignmentgroup": "True",
           "hovertemplate": "都道府県名=%{y}<br>西暦（年）=1975.0<br>人口（総数）=%{x}<extra></extra>",
           "legendgroup": "福井県",
           "marker": {
            "color": "#EF553B",
            "pattern": {
             "shape": ""
            }
           },
           "name": "福井県",
           "offsetgroup": "福井県",
           "orientation": "h",
           "showlegend": true,
           "textposition": "auto",
           "type": "bar",
           "x": [
            773599
           ],
           "xaxis": "x",
           "y": [
            "福井県"
           ],
           "yaxis": "y"
          },
          {
           "alignmentgroup": "True",
           "hovertemplate": "都道府県名=%{y}<br>西暦（年）=1975.0<br>人口（総数）=%{x}<extra></extra>",
           "legendgroup": "山梨県",
           "marker": {
            "color": "#00cc96",
            "pattern": {
             "shape": ""
            }
           },
           "name": "山梨県",
           "offsetgroup": "山梨県",
           "orientation": "h",
           "showlegend": true,
           "textposition": "auto",
           "type": "bar",
           "x": [
            783050
           ],
           "xaxis": "x",
           "y": [
            "山梨県"
           ],
           "yaxis": "y"
          },
          {
           "alignmentgroup": "True",
           "hovertemplate": "都道府県名=%{y}<br>西暦（年）=1975.0<br>人口（総数）=%{x}<extra></extra>",
           "legendgroup": "和歌山県",
           "marker": {
            "color": "#ab63fa",
            "pattern": {
             "shape": ""
            }
           },
           "name": "和歌山県",
           "offsetgroup": "和歌山県",
           "orientation": "h",
           "showlegend": true,
           "textposition": "auto",
           "type": "bar",
           "x": [
            1072118
           ],
           "xaxis": "x",
           "y": [
            "和歌山県"
           ],
           "yaxis": "y"
          },
          {
           "alignmentgroup": "True",
           "hovertemplate": "都道府県名=%{y}<br>西暦（年）=1975.0<br>人口（総数）=%{x}<extra></extra>",
           "legendgroup": "鳥取県",
           "marker": {
            "color": "#FFA15A",
            "pattern": {
             "shape": ""
            }
           },
           "name": "鳥取県",
           "offsetgroup": "鳥取県",
           "orientation": "h",
           "showlegend": true,
           "textposition": "auto",
           "type": "bar",
           "x": [
            581311
           ],
           "xaxis": "x",
           "y": [
            "鳥取県"
           ],
           "yaxis": "y"
          },
          {
           "alignmentgroup": "True",
           "hovertemplate": "都道府県名=%{y}<br>西暦（年）=1975.0<br>人口（総数）=%{x}<extra></extra>",
           "legendgroup": "島根県",
           "marker": {
            "color": "#19d3f3",
            "pattern": {
             "shape": ""
            }
           },
           "name": "島根県",
           "offsetgroup": "島根県",
           "orientation": "h",
           "showlegend": true,
           "textposition": "auto",
           "type": "bar",
           "x": [
            768886
           ],
           "xaxis": "x",
           "y": [
            "島根県"
           ],
           "yaxis": "y"
          },
          {
           "alignmentgroup": "True",
           "hovertemplate": "都道府県名=%{y}<br>西暦（年）=1975.0<br>人口（総数）=%{x}<extra></extra>",
           "legendgroup": "徳島県",
           "marker": {
            "color": "#FF6692",
            "pattern": {
             "shape": ""
            }
           },
           "name": "徳島県",
           "offsetgroup": "徳島県",
           "orientation": "h",
           "showlegend": true,
           "textposition": "auto",
           "type": "bar",
           "x": [
            805166
           ],
           "xaxis": "x",
           "y": [
            "徳島県"
           ],
           "yaxis": "y"
          },
          {
           "alignmentgroup": "True",
           "hovertemplate": "都道府県名=%{y}<br>西暦（年）=1975.0<br>人口（総数）=%{x}<extra></extra>",
           "legendgroup": "香川県",
           "marker": {
            "color": "#B6E880",
            "pattern": {
             "shape": ""
            }
           },
           "name": "香川県",
           "offsetgroup": "香川県",
           "orientation": "h",
           "showlegend": true,
           "textposition": "auto",
           "type": "bar",
           "x": [
            961292
           ],
           "xaxis": "x",
           "y": [
            "香川県"
           ],
           "yaxis": "y"
          },
          {
           "alignmentgroup": "True",
           "hovertemplate": "都道府県名=%{y}<br>西暦（年）=1975.0<br>人口（総数）=%{x}<extra></extra>",
           "legendgroup": "高知県",
           "marker": {
            "color": "#FF97FF",
            "pattern": {
             "shape": ""
            }
           },
           "name": "高知県",
           "offsetgroup": "高知県",
           "orientation": "h",
           "showlegend": true,
           "textposition": "auto",
           "type": "bar",
           "x": [
            808397
           ],
           "xaxis": "x",
           "y": [
            "高知県"
           ],
           "yaxis": "y"
          },
          {
           "alignmentgroup": "True",
           "hovertemplate": "都道府県名=%{y}<br>西暦（年）=1975.0<br>人口（総数）=%{x}<extra></extra>",
           "legendgroup": "佐賀県",
           "marker": {
            "color": "#FECB52",
            "pattern": {
             "shape": ""
            }
           },
           "name": "佐賀県",
           "offsetgroup": "佐賀県",
           "orientation": "h",
           "showlegend": true,
           "textposition": "auto",
           "type": "bar",
           "x": [
            837674
           ],
           "xaxis": "x",
           "y": [
            "佐賀県"
           ],
           "yaxis": "y"
          }
         ],
         "name": "1975.0"
        },
        {
         "data": [
          {
           "alignmentgroup": "True",
           "hovertemplate": "都道府県名=%{y}<br>西暦（年）=1980.0<br>人口（総数）=%{x}<extra></extra>",
           "legendgroup": "秋田県",
           "marker": {
            "color": "#636efa",
            "pattern": {
             "shape": ""
            }
           },
           "name": "秋田県",
           "offsetgroup": "秋田県",
           "orientation": "h",
           "showlegend": true,
           "textposition": "auto",
           "type": "bar",
           "x": [
            1256745
           ],
           "xaxis": "x",
           "y": [
            "秋田県"
           ],
           "yaxis": "y"
          },
          {
           "alignmentgroup": "True",
           "hovertemplate": "都道府県名=%{y}<br>西暦（年）=1980.0<br>人口（総数）=%{x}<extra></extra>",
           "legendgroup": "福井県",
           "marker": {
            "color": "#EF553B",
            "pattern": {
             "shape": ""
            }
           },
           "name": "福井県",
           "offsetgroup": "福井県",
           "orientation": "h",
           "showlegend": true,
           "textposition": "auto",
           "type": "bar",
           "x": [
            794354
           ],
           "xaxis": "x",
           "y": [
            "福井県"
           ],
           "yaxis": "y"
          },
          {
           "alignmentgroup": "True",
           "hovertemplate": "都道府県名=%{y}<br>西暦（年）=1980.0<br>人口（総数）=%{x}<extra></extra>",
           "legendgroup": "山梨県",
           "marker": {
            "color": "#00cc96",
            "pattern": {
             "shape": ""
            }
           },
           "name": "山梨県",
           "offsetgroup": "山梨県",
           "orientation": "h",
           "showlegend": true,
           "textposition": "auto",
           "type": "bar",
           "x": [
            804256
           ],
           "xaxis": "x",
           "y": [
            "山梨県"
           ],
           "yaxis": "y"
          },
          {
           "alignmentgroup": "True",
           "hovertemplate": "都道府県名=%{y}<br>西暦（年）=1980.0<br>人口（総数）=%{x}<extra></extra>",
           "legendgroup": "和歌山県",
           "marker": {
            "color": "#ab63fa",
            "pattern": {
             "shape": ""
            }
           },
           "name": "和歌山県",
           "offsetgroup": "和歌山県",
           "orientation": "h",
           "showlegend": true,
           "textposition": "auto",
           "type": "bar",
           "x": [
            1087012
           ],
           "xaxis": "x",
           "y": [
            "和歌山県"
           ],
           "yaxis": "y"
          },
          {
           "alignmentgroup": "True",
           "hovertemplate": "都道府県名=%{y}<br>西暦（年）=1980.0<br>人口（総数）=%{x}<extra></extra>",
           "legendgroup": "鳥取県",
           "marker": {
            "color": "#FFA15A",
            "pattern": {
             "shape": ""
            }
           },
           "name": "鳥取県",
           "offsetgroup": "鳥取県",
           "orientation": "h",
           "showlegend": true,
           "textposition": "auto",
           "type": "bar",
           "x": [
            604221
           ],
           "xaxis": "x",
           "y": [
            "鳥取県"
           ],
           "yaxis": "y"
          },
          {
           "alignmentgroup": "True",
           "hovertemplate": "都道府県名=%{y}<br>西暦（年）=1980.0<br>人口（総数）=%{x}<extra></extra>",
           "legendgroup": "島根県",
           "marker": {
            "color": "#19d3f3",
            "pattern": {
             "shape": ""
            }
           },
           "name": "島根県",
           "offsetgroup": "島根県",
           "orientation": "h",
           "showlegend": true,
           "textposition": "auto",
           "type": "bar",
           "x": [
            784795
           ],
           "xaxis": "x",
           "y": [
            "島根県"
           ],
           "yaxis": "y"
          },
          {
           "alignmentgroup": "True",
           "hovertemplate": "都道府県名=%{y}<br>西暦（年）=1980.0<br>人口（総数）=%{x}<extra></extra>",
           "legendgroup": "徳島県",
           "marker": {
            "color": "#FF6692",
            "pattern": {
             "shape": ""
            }
           },
           "name": "徳島県",
           "offsetgroup": "徳島県",
           "orientation": "h",
           "showlegend": true,
           "textposition": "auto",
           "type": "bar",
           "x": [
            825261
           ],
           "xaxis": "x",
           "y": [
            "徳島県"
           ],
           "yaxis": "y"
          },
          {
           "alignmentgroup": "True",
           "hovertemplate": "都道府県名=%{y}<br>西暦（年）=1980.0<br>人口（総数）=%{x}<extra></extra>",
           "legendgroup": "香川県",
           "marker": {
            "color": "#B6E880",
            "pattern": {
             "shape": ""
            }
           },
           "name": "香川県",
           "offsetgroup": "香川県",
           "orientation": "h",
           "showlegend": true,
           "textposition": "auto",
           "type": "bar",
           "x": [
            999864
           ],
           "xaxis": "x",
           "y": [
            "香川県"
           ],
           "yaxis": "y"
          },
          {
           "alignmentgroup": "True",
           "hovertemplate": "都道府県名=%{y}<br>西暦（年）=1980.0<br>人口（総数）=%{x}<extra></extra>",
           "legendgroup": "高知県",
           "marker": {
            "color": "#FF97FF",
            "pattern": {
             "shape": ""
            }
           },
           "name": "高知県",
           "offsetgroup": "高知県",
           "orientation": "h",
           "showlegend": true,
           "textposition": "auto",
           "type": "bar",
           "x": [
            831275
           ],
           "xaxis": "x",
           "y": [
            "高知県"
           ],
           "yaxis": "y"
          },
          {
           "alignmentgroup": "True",
           "hovertemplate": "都道府県名=%{y}<br>西暦（年）=1980.0<br>人口（総数）=%{x}<extra></extra>",
           "legendgroup": "佐賀県",
           "marker": {
            "color": "#FECB52",
            "pattern": {
             "shape": ""
            }
           },
           "name": "佐賀県",
           "offsetgroup": "佐賀県",
           "orientation": "h",
           "showlegend": true,
           "textposition": "auto",
           "type": "bar",
           "x": [
            865574
           ],
           "xaxis": "x",
           "y": [
            "佐賀県"
           ],
           "yaxis": "y"
          }
         ],
         "name": "1980.0"
        },
        {
         "data": [
          {
           "alignmentgroup": "True",
           "hovertemplate": "都道府県名=%{y}<br>西暦（年）=1985.0<br>人口（総数）=%{x}<extra></extra>",
           "legendgroup": "秋田県",
           "marker": {
            "color": "#636efa",
            "pattern": {
             "shape": ""
            }
           },
           "name": "秋田県",
           "offsetgroup": "秋田県",
           "orientation": "h",
           "showlegend": true,
           "textposition": "auto",
           "type": "bar",
           "x": [
            1254032
           ],
           "xaxis": "x",
           "y": [
            "秋田県"
           ],
           "yaxis": "y"
          },
          {
           "alignmentgroup": "True",
           "hovertemplate": "都道府県名=%{y}<br>西暦（年）=1985.0<br>人口（総数）=%{x}<extra></extra>",
           "legendgroup": "福井県",
           "marker": {
            "color": "#EF553B",
            "pattern": {
             "shape": ""
            }
           },
           "name": "福井県",
           "offsetgroup": "福井県",
           "orientation": "h",
           "showlegend": true,
           "textposition": "auto",
           "type": "bar",
           "x": [
            817633
           ],
           "xaxis": "x",
           "y": [
            "福井県"
           ],
           "yaxis": "y"
          },
          {
           "alignmentgroup": "True",
           "hovertemplate": "都道府県名=%{y}<br>西暦（年）=1985.0<br>人口（総数）=%{x}<extra></extra>",
           "legendgroup": "山梨県",
           "marker": {
            "color": "#00cc96",
            "pattern": {
             "shape": ""
            }
           },
           "name": "山梨県",
           "offsetgroup": "山梨県",
           "orientation": "h",
           "showlegend": true,
           "textposition": "auto",
           "type": "bar",
           "x": [
            832832
           ],
           "xaxis": "x",
           "y": [
            "山梨県"
           ],
           "yaxis": "y"
          },
          {
           "alignmentgroup": "True",
           "hovertemplate": "都道府県名=%{y}<br>西暦（年）=1985.0<br>人口（総数）=%{x}<extra></extra>",
           "legendgroup": "和歌山県",
           "marker": {
            "color": "#ab63fa",
            "pattern": {
             "shape": ""
            }
           },
           "name": "和歌山県",
           "offsetgroup": "和歌山県",
           "orientation": "h",
           "showlegend": true,
           "textposition": "auto",
           "type": "bar",
           "x": [
            1087206
           ],
           "xaxis": "x",
           "y": [
            "和歌山県"
           ],
           "yaxis": "y"
          },
          {
           "alignmentgroup": "True",
           "hovertemplate": "都道府県名=%{y}<br>西暦（年）=1985.0<br>人口（総数）=%{x}<extra></extra>",
           "legendgroup": "鳥取県",
           "marker": {
            "color": "#FFA15A",
            "pattern": {
             "shape": ""
            }
           },
           "name": "鳥取県",
           "offsetgroup": "鳥取県",
           "orientation": "h",
           "showlegend": true,
           "textposition": "auto",
           "type": "bar",
           "x": [
            616024
           ],
           "xaxis": "x",
           "y": [
            "鳥取県"
           ],
           "yaxis": "y"
          },
          {
           "alignmentgroup": "True",
           "hovertemplate": "都道府県名=%{y}<br>西暦（年）=1985.0<br>人口（総数）=%{x}<extra></extra>",
           "legendgroup": "島根県",
           "marker": {
            "color": "#19d3f3",
            "pattern": {
             "shape": ""
            }
           },
           "name": "島根県",
           "offsetgroup": "島根県",
           "orientation": "h",
           "showlegend": true,
           "textposition": "auto",
           "type": "bar",
           "x": [
            794629
           ],
           "xaxis": "x",
           "y": [
            "島根県"
           ],
           "yaxis": "y"
          },
          {
           "alignmentgroup": "True",
           "hovertemplate": "都道府県名=%{y}<br>西暦（年）=1985.0<br>人口（総数）=%{x}<extra></extra>",
           "legendgroup": "徳島県",
           "marker": {
            "color": "#FF6692",
            "pattern": {
             "shape": ""
            }
           },
           "name": "徳島県",
           "offsetgroup": "徳島県",
           "orientation": "h",
           "showlegend": true,
           "textposition": "auto",
           "type": "bar",
           "x": [
            834889
           ],
           "xaxis": "x",
           "y": [
            "徳島県"
           ],
           "yaxis": "y"
          },
          {
           "alignmentgroup": "True",
           "hovertemplate": "都道府県名=%{y}<br>西暦（年）=1985.0<br>人口（総数）=%{x}<extra></extra>",
           "legendgroup": "香川県",
           "marker": {
            "color": "#B6E880",
            "pattern": {
             "shape": ""
            }
           },
           "name": "香川県",
           "offsetgroup": "香川県",
           "orientation": "h",
           "showlegend": true,
           "textposition": "auto",
           "type": "bar",
           "x": [
            1022569
           ],
           "xaxis": "x",
           "y": [
            "香川県"
           ],
           "yaxis": "y"
          },
          {
           "alignmentgroup": "True",
           "hovertemplate": "都道府県名=%{y}<br>西暦（年）=1985.0<br>人口（総数）=%{x}<extra></extra>",
           "legendgroup": "高知県",
           "marker": {
            "color": "#FF97FF",
            "pattern": {
             "shape": ""
            }
           },
           "name": "高知県",
           "offsetgroup": "高知県",
           "orientation": "h",
           "showlegend": true,
           "textposition": "auto",
           "type": "bar",
           "x": [
            839784
           ],
           "xaxis": "x",
           "y": [
            "高知県"
           ],
           "yaxis": "y"
          },
          {
           "alignmentgroup": "True",
           "hovertemplate": "都道府県名=%{y}<br>西暦（年）=1985.0<br>人口（総数）=%{x}<extra></extra>",
           "legendgroup": "佐賀県",
           "marker": {
            "color": "#FECB52",
            "pattern": {
             "shape": ""
            }
           },
           "name": "佐賀県",
           "offsetgroup": "佐賀県",
           "orientation": "h",
           "showlegend": true,
           "textposition": "auto",
           "type": "bar",
           "x": [
            880013
           ],
           "xaxis": "x",
           "y": [
            "佐賀県"
           ],
           "yaxis": "y"
          }
         ],
         "name": "1985.0"
        },
        {
         "data": [
          {
           "alignmentgroup": "True",
           "hovertemplate": "都道府県名=%{y}<br>西暦（年）=1990.0<br>人口（総数）=%{x}<extra></extra>",
           "legendgroup": "秋田県",
           "marker": {
            "color": "#636efa",
            "pattern": {
             "shape": ""
            }
           },
           "name": "秋田県",
           "offsetgroup": "秋田県",
           "orientation": "h",
           "showlegend": true,
           "textposition": "auto",
           "type": "bar",
           "x": [
            1227478
           ],
           "xaxis": "x",
           "y": [
            "秋田県"
           ],
           "yaxis": "y"
          },
          {
           "alignmentgroup": "True",
           "hovertemplate": "都道府県名=%{y}<br>西暦（年）=1990.0<br>人口（総数）=%{x}<extra></extra>",
           "legendgroup": "福井県",
           "marker": {
            "color": "#EF553B",
            "pattern": {
             "shape": ""
            }
           },
           "name": "福井県",
           "offsetgroup": "福井県",
           "orientation": "h",
           "showlegend": true,
           "textposition": "auto",
           "type": "bar",
           "x": [
            823585
           ],
           "xaxis": "x",
           "y": [
            "福井県"
           ],
           "yaxis": "y"
          },
          {
           "alignmentgroup": "True",
           "hovertemplate": "都道府県名=%{y}<br>西暦（年）=1990.0<br>人口（総数）=%{x}<extra></extra>",
           "legendgroup": "山梨県",
           "marker": {
            "color": "#00cc96",
            "pattern": {
             "shape": ""
            }
           },
           "name": "山梨県",
           "offsetgroup": "山梨県",
           "orientation": "h",
           "showlegend": true,
           "textposition": "auto",
           "type": "bar",
           "x": [
            852966
           ],
           "xaxis": "x",
           "y": [
            "山梨県"
           ],
           "yaxis": "y"
          },
          {
           "alignmentgroup": "True",
           "hovertemplate": "都道府県名=%{y}<br>西暦（年）=1990.0<br>人口（総数）=%{x}<extra></extra>",
           "legendgroup": "和歌山県",
           "marker": {
            "color": "#ab63fa",
            "pattern": {
             "shape": ""
            }
           },
           "name": "和歌山県",
           "offsetgroup": "和歌山県",
           "orientation": "h",
           "showlegend": true,
           "textposition": "auto",
           "type": "bar",
           "x": [
            1074325
           ],
           "xaxis": "x",
           "y": [
            "和歌山県"
           ],
           "yaxis": "y"
          },
          {
           "alignmentgroup": "True",
           "hovertemplate": "都道府県名=%{y}<br>西暦（年）=1990.0<br>人口（総数）=%{x}<extra></extra>",
           "legendgroup": "鳥取県",
           "marker": {
            "color": "#FFA15A",
            "pattern": {
             "shape": ""
            }
           },
           "name": "鳥取県",
           "offsetgroup": "鳥取県",
           "orientation": "h",
           "showlegend": true,
           "textposition": "auto",
           "type": "bar",
           "x": [
            615722
           ],
           "xaxis": "x",
           "y": [
            "鳥取県"
           ],
           "yaxis": "y"
          },
          {
           "alignmentgroup": "True",
           "hovertemplate": "都道府県名=%{y}<br>西暦（年）=1990.0<br>人口（総数）=%{x}<extra></extra>",
           "legendgroup": "島根県",
           "marker": {
            "color": "#19d3f3",
            "pattern": {
             "shape": ""
            }
           },
           "name": "島根県",
           "offsetgroup": "島根県",
           "orientation": "h",
           "showlegend": true,
           "textposition": "auto",
           "type": "bar",
           "x": [
            781021
           ],
           "xaxis": "x",
           "y": [
            "島根県"
           ],
           "yaxis": "y"
          },
          {
           "alignmentgroup": "True",
           "hovertemplate": "都道府県名=%{y}<br>西暦（年）=1990.0<br>人口（総数）=%{x}<extra></extra>",
           "legendgroup": "徳島県",
           "marker": {
            "color": "#FF6692",
            "pattern": {
             "shape": ""
            }
           },
           "name": "徳島県",
           "offsetgroup": "徳島県",
           "orientation": "h",
           "showlegend": true,
           "textposition": "auto",
           "type": "bar",
           "x": [
            831598
           ],
           "xaxis": "x",
           "y": [
            "徳島県"
           ],
           "yaxis": "y"
          },
          {
           "alignmentgroup": "True",
           "hovertemplate": "都道府県名=%{y}<br>西暦（年）=1990.0<br>人口（総数）=%{x}<extra></extra>",
           "legendgroup": "香川県",
           "marker": {
            "color": "#B6E880",
            "pattern": {
             "shape": ""
            }
           },
           "name": "香川県",
           "offsetgroup": "香川県",
           "orientation": "h",
           "showlegend": true,
           "textposition": "auto",
           "type": "bar",
           "x": [
            1023412
           ],
           "xaxis": "x",
           "y": [
            "香川県"
           ],
           "yaxis": "y"
          },
          {
           "alignmentgroup": "True",
           "hovertemplate": "都道府県名=%{y}<br>西暦（年）=1990.0<br>人口（総数）=%{x}<extra></extra>",
           "legendgroup": "高知県",
           "marker": {
            "color": "#FF97FF",
            "pattern": {
             "shape": ""
            }
           },
           "name": "高知県",
           "offsetgroup": "高知県",
           "orientation": "h",
           "showlegend": true,
           "textposition": "auto",
           "type": "bar",
           "x": [
            825034
           ],
           "xaxis": "x",
           "y": [
            "高知県"
           ],
           "yaxis": "y"
          },
          {
           "alignmentgroup": "True",
           "hovertemplate": "都道府県名=%{y}<br>西暦（年）=1990.0<br>人口（総数）=%{x}<extra></extra>",
           "legendgroup": "佐賀県",
           "marker": {
            "color": "#FECB52",
            "pattern": {
             "shape": ""
            }
           },
           "name": "佐賀県",
           "offsetgroup": "佐賀県",
           "orientation": "h",
           "showlegend": true,
           "textposition": "auto",
           "type": "bar",
           "x": [
            877851
           ],
           "xaxis": "x",
           "y": [
            "佐賀県"
           ],
           "yaxis": "y"
          }
         ],
         "name": "1990.0"
        },
        {
         "data": [
          {
           "alignmentgroup": "True",
           "hovertemplate": "都道府県名=%{y}<br>西暦（年）=1995.0<br>人口（総数）=%{x}<extra></extra>",
           "legendgroup": "秋田県",
           "marker": {
            "color": "#636efa",
            "pattern": {
             "shape": ""
            }
           },
           "name": "秋田県",
           "offsetgroup": "秋田県",
           "orientation": "h",
           "showlegend": true,
           "textposition": "auto",
           "type": "bar",
           "x": [
            1213667
           ],
           "xaxis": "x",
           "y": [
            "秋田県"
           ],
           "yaxis": "y"
          },
          {
           "alignmentgroup": "True",
           "hovertemplate": "都道府県名=%{y}<br>西暦（年）=1995.0<br>人口（総数）=%{x}<extra></extra>",
           "legendgroup": "福井県",
           "marker": {
            "color": "#EF553B",
            "pattern": {
             "shape": ""
            }
           },
           "name": "福井県",
           "offsetgroup": "福井県",
           "orientation": "h",
           "showlegend": true,
           "textposition": "auto",
           "type": "bar",
           "x": [
            826996
           ],
           "xaxis": "x",
           "y": [
            "福井県"
           ],
           "yaxis": "y"
          },
          {
           "alignmentgroup": "True",
           "hovertemplate": "都道府県名=%{y}<br>西暦（年）=1995.0<br>人口（総数）=%{x}<extra></extra>",
           "legendgroup": "山梨県",
           "marker": {
            "color": "#00cc96",
            "pattern": {
             "shape": ""
            }
           },
           "name": "山梨県",
           "offsetgroup": "山梨県",
           "orientation": "h",
           "showlegend": true,
           "textposition": "auto",
           "type": "bar",
           "x": [
            881996
           ],
           "xaxis": "x",
           "y": [
            "山梨県"
           ],
           "yaxis": "y"
          },
          {
           "alignmentgroup": "True",
           "hovertemplate": "都道府県名=%{y}<br>西暦（年）=1995.0<br>人口（総数）=%{x}<extra></extra>",
           "legendgroup": "和歌山県",
           "marker": {
            "color": "#ab63fa",
            "pattern": {
             "shape": ""
            }
           },
           "name": "和歌山県",
           "offsetgroup": "和歌山県",
           "orientation": "h",
           "showlegend": true,
           "textposition": "auto",
           "type": "bar",
           "x": [
            1080435
           ],
           "xaxis": "x",
           "y": [
            "和歌山県"
           ],
           "yaxis": "y"
          },
          {
           "alignmentgroup": "True",
           "hovertemplate": "都道府県名=%{y}<br>西暦（年）=1995.0<br>人口（総数）=%{x}<extra></extra>",
           "legendgroup": "鳥取県",
           "marker": {
            "color": "#FFA15A",
            "pattern": {
             "shape": ""
            }
           },
           "name": "鳥取県",
           "offsetgroup": "鳥取県",
           "orientation": "h",
           "showlegend": true,
           "textposition": "auto",
           "type": "bar",
           "x": [
            614929
           ],
           "xaxis": "x",
           "y": [
            "鳥取県"
           ],
           "yaxis": "y"
          },
          {
           "alignmentgroup": "True",
           "hovertemplate": "都道府県名=%{y}<br>西暦（年）=1995.0<br>人口（総数）=%{x}<extra></extra>",
           "legendgroup": "島根県",
           "marker": {
            "color": "#19d3f3",
            "pattern": {
             "shape": ""
            }
           },
           "name": "島根県",
           "offsetgroup": "島根県",
           "orientation": "h",
           "showlegend": true,
           "textposition": "auto",
           "type": "bar",
           "x": [
            771441
           ],
           "xaxis": "x",
           "y": [
            "島根県"
           ],
           "yaxis": "y"
          },
          {
           "alignmentgroup": "True",
           "hovertemplate": "都道府県名=%{y}<br>西暦（年）=1995.0<br>人口（総数）=%{x}<extra></extra>",
           "legendgroup": "徳島県",
           "marker": {
            "color": "#FF6692",
            "pattern": {
             "shape": ""
            }
           },
           "name": "徳島県",
           "offsetgroup": "徳島県",
           "orientation": "h",
           "showlegend": true,
           "textposition": "auto",
           "type": "bar",
           "x": [
            832427
           ],
           "xaxis": "x",
           "y": [
            "徳島県"
           ],
           "yaxis": "y"
          },
          {
           "alignmentgroup": "True",
           "hovertemplate": "都道府県名=%{y}<br>西暦（年）=1995.0<br>人口（総数）=%{x}<extra></extra>",
           "legendgroup": "香川県",
           "marker": {
            "color": "#B6E880",
            "pattern": {
             "shape": ""
            }
           },
           "name": "香川県",
           "offsetgroup": "香川県",
           "orientation": "h",
           "showlegend": true,
           "textposition": "auto",
           "type": "bar",
           "x": [
            1027006
           ],
           "xaxis": "x",
           "y": [
            "香川県"
           ],
           "yaxis": "y"
          },
          {
           "alignmentgroup": "True",
           "hovertemplate": "都道府県名=%{y}<br>西暦（年）=1995.0<br>人口（総数）=%{x}<extra></extra>",
           "legendgroup": "高知県",
           "marker": {
            "color": "#FF97FF",
            "pattern": {
             "shape": ""
            }
           },
           "name": "高知県",
           "offsetgroup": "高知県",
           "orientation": "h",
           "showlegend": true,
           "textposition": "auto",
           "type": "bar",
           "x": [
            816704
           ],
           "xaxis": "x",
           "y": [
            "高知県"
           ],
           "yaxis": "y"
          },
          {
           "alignmentgroup": "True",
           "hovertemplate": "都道府県名=%{y}<br>西暦（年）=1995.0<br>人口（総数）=%{x}<extra></extra>",
           "legendgroup": "佐賀県",
           "marker": {
            "color": "#FECB52",
            "pattern": {
             "shape": ""
            }
           },
           "name": "佐賀県",
           "offsetgroup": "佐賀県",
           "orientation": "h",
           "showlegend": true,
           "textposition": "auto",
           "type": "bar",
           "x": [
            884316
           ],
           "xaxis": "x",
           "y": [
            "佐賀県"
           ],
           "yaxis": "y"
          }
         ],
         "name": "1995.0"
        },
        {
         "data": [
          {
           "alignmentgroup": "True",
           "hovertemplate": "都道府県名=%{y}<br>西暦（年）=2000.0<br>人口（総数）=%{x}<extra></extra>",
           "legendgroup": "秋田県",
           "marker": {
            "color": "#636efa",
            "pattern": {
             "shape": ""
            }
           },
           "name": "秋田県",
           "offsetgroup": "秋田県",
           "orientation": "h",
           "showlegend": true,
           "textposition": "auto",
           "type": "bar",
           "x": [
            1189279
           ],
           "xaxis": "x",
           "y": [
            "秋田県"
           ],
           "yaxis": "y"
          },
          {
           "alignmentgroup": "True",
           "hovertemplate": "都道府県名=%{y}<br>西暦（年）=2000.0<br>人口（総数）=%{x}<extra></extra>",
           "legendgroup": "福井県",
           "marker": {
            "color": "#EF553B",
            "pattern": {
             "shape": ""
            }
           },
           "name": "福井県",
           "offsetgroup": "福井県",
           "orientation": "h",
           "showlegend": true,
           "textposition": "auto",
           "type": "bar",
           "x": [
            828944
           ],
           "xaxis": "x",
           "y": [
            "福井県"
           ],
           "yaxis": "y"
          },
          {
           "alignmentgroup": "True",
           "hovertemplate": "都道府県名=%{y}<br>西暦（年）=2000.0<br>人口（総数）=%{x}<extra></extra>",
           "legendgroup": "山梨県",
           "marker": {
            "color": "#00cc96",
            "pattern": {
             "shape": ""
            }
           },
           "name": "山梨県",
           "offsetgroup": "山梨県",
           "orientation": "h",
           "showlegend": true,
           "textposition": "auto",
           "type": "bar",
           "x": [
            888172
           ],
           "xaxis": "x",
           "y": [
            "山梨県"
           ],
           "yaxis": "y"
          },
          {
           "alignmentgroup": "True",
           "hovertemplate": "都道府県名=%{y}<br>西暦（年）=2000.0<br>人口（総数）=%{x}<extra></extra>",
           "legendgroup": "和歌山県",
           "marker": {
            "color": "#ab63fa",
            "pattern": {
             "shape": ""
            }
           },
           "name": "和歌山県",
           "offsetgroup": "和歌山県",
           "orientation": "h",
           "showlegend": true,
           "textposition": "auto",
           "type": "bar",
           "x": [
            1069912
           ],
           "xaxis": "x",
           "y": [
            "和歌山県"
           ],
           "yaxis": "y"
          },
          {
           "alignmentgroup": "True",
           "hovertemplate": "都道府県名=%{y}<br>西暦（年）=2000.0<br>人口（総数）=%{x}<extra></extra>",
           "legendgroup": "鳥取県",
           "marker": {
            "color": "#FFA15A",
            "pattern": {
             "shape": ""
            }
           },
           "name": "鳥取県",
           "offsetgroup": "鳥取県",
           "orientation": "h",
           "showlegend": true,
           "textposition": "auto",
           "type": "bar",
           "x": [
            613289
           ],
           "xaxis": "x",
           "y": [
            "鳥取県"
           ],
           "yaxis": "y"
          },
          {
           "alignmentgroup": "True",
           "hovertemplate": "都道府県名=%{y}<br>西暦（年）=2000.0<br>人口（総数）=%{x}<extra></extra>",
           "legendgroup": "島根県",
           "marker": {
            "color": "#19d3f3",
            "pattern": {
             "shape": ""
            }
           },
           "name": "島根県",
           "offsetgroup": "島根県",
           "orientation": "h",
           "showlegend": true,
           "textposition": "auto",
           "type": "bar",
           "x": [
            761503
           ],
           "xaxis": "x",
           "y": [
            "島根県"
           ],
           "yaxis": "y"
          },
          {
           "alignmentgroup": "True",
           "hovertemplate": "都道府県名=%{y}<br>西暦（年）=2000.0<br>人口（総数）=%{x}<extra></extra>",
           "legendgroup": "徳島県",
           "marker": {
            "color": "#FF6692",
            "pattern": {
             "shape": ""
            }
           },
           "name": "徳島県",
           "offsetgroup": "徳島県",
           "orientation": "h",
           "showlegend": true,
           "textposition": "auto",
           "type": "bar",
           "x": [
            824108
           ],
           "xaxis": "x",
           "y": [
            "徳島県"
           ],
           "yaxis": "y"
          },
          {
           "alignmentgroup": "True",
           "hovertemplate": "都道府県名=%{y}<br>西暦（年）=2000.0<br>人口（総数）=%{x}<extra></extra>",
           "legendgroup": "香川県",
           "marker": {
            "color": "#B6E880",
            "pattern": {
             "shape": ""
            }
           },
           "name": "香川県",
           "offsetgroup": "香川県",
           "orientation": "h",
           "showlegend": true,
           "textposition": "auto",
           "type": "bar",
           "x": [
            1022890
           ],
           "xaxis": "x",
           "y": [
            "香川県"
           ],
           "yaxis": "y"
          },
          {
           "alignmentgroup": "True",
           "hovertemplate": "都道府県名=%{y}<br>西暦（年）=2000.0<br>人口（総数）=%{x}<extra></extra>",
           "legendgroup": "高知県",
           "marker": {
            "color": "#FF97FF",
            "pattern": {
             "shape": ""
            }
           },
           "name": "高知県",
           "offsetgroup": "高知県",
           "orientation": "h",
           "showlegend": true,
           "textposition": "auto",
           "type": "bar",
           "x": [
            813949
           ],
           "xaxis": "x",
           "y": [
            "高知県"
           ],
           "yaxis": "y"
          },
          {
           "alignmentgroup": "True",
           "hovertemplate": "都道府県名=%{y}<br>西暦（年）=2000.0<br>人口（総数）=%{x}<extra></extra>",
           "legendgroup": "佐賀県",
           "marker": {
            "color": "#FECB52",
            "pattern": {
             "shape": ""
            }
           },
           "name": "佐賀県",
           "offsetgroup": "佐賀県",
           "orientation": "h",
           "showlegend": true,
           "textposition": "auto",
           "type": "bar",
           "x": [
            876654
           ],
           "xaxis": "x",
           "y": [
            "佐賀県"
           ],
           "yaxis": "y"
          }
         ],
         "name": "2000.0"
        },
        {
         "data": [
          {
           "alignmentgroup": "True",
           "hovertemplate": "都道府県名=%{y}<br>西暦（年）=2005.0<br>人口（総数）=%{x}<extra></extra>",
           "legendgroup": "秋田県",
           "marker": {
            "color": "#636efa",
            "pattern": {
             "shape": ""
            }
           },
           "name": "秋田県",
           "offsetgroup": "秋田県",
           "orientation": "h",
           "showlegend": true,
           "textposition": "auto",
           "type": "bar",
           "x": [
            1145501
           ],
           "xaxis": "x",
           "y": [
            "秋田県"
           ],
           "yaxis": "y"
          },
          {
           "alignmentgroup": "True",
           "hovertemplate": "都道府県名=%{y}<br>西暦（年）=2005.0<br>人口（総数）=%{x}<extra></extra>",
           "legendgroup": "福井県",
           "marker": {
            "color": "#EF553B",
            "pattern": {
             "shape": ""
            }
           },
           "name": "福井県",
           "offsetgroup": "福井県",
           "orientation": "h",
           "showlegend": true,
           "textposition": "auto",
           "type": "bar",
           "x": [
            821592
           ],
           "xaxis": "x",
           "y": [
            "福井県"
           ],
           "yaxis": "y"
          },
          {
           "alignmentgroup": "True",
           "hovertemplate": "都道府県名=%{y}<br>西暦（年）=2005.0<br>人口（総数）=%{x}<extra></extra>",
           "legendgroup": "山梨県",
           "marker": {
            "color": "#00cc96",
            "pattern": {
             "shape": ""
            }
           },
           "name": "山梨県",
           "offsetgroup": "山梨県",
           "orientation": "h",
           "showlegend": true,
           "textposition": "auto",
           "type": "bar",
           "x": [
            884515
           ],
           "xaxis": "x",
           "y": [
            "山梨県"
           ],
           "yaxis": "y"
          },
          {
           "alignmentgroup": "True",
           "hovertemplate": "都道府県名=%{y}<br>西暦（年）=2005.0<br>人口（総数）=%{x}<extra></extra>",
           "legendgroup": "和歌山県",
           "marker": {
            "color": "#ab63fa",
            "pattern": {
             "shape": ""
            }
           },
           "name": "和歌山県",
           "offsetgroup": "和歌山県",
           "orientation": "h",
           "showlegend": true,
           "textposition": "auto",
           "type": "bar",
           "x": [
            1035969
           ],
           "xaxis": "x",
           "y": [
            "和歌山県"
           ],
           "yaxis": "y"
          },
          {
           "alignmentgroup": "True",
           "hovertemplate": "都道府県名=%{y}<br>西暦（年）=2005.0<br>人口（総数）=%{x}<extra></extra>",
           "legendgroup": "鳥取県",
           "marker": {
            "color": "#FFA15A",
            "pattern": {
             "shape": ""
            }
           },
           "name": "鳥取県",
           "offsetgroup": "鳥取県",
           "orientation": "h",
           "showlegend": true,
           "textposition": "auto",
           "type": "bar",
           "x": [
            607012
           ],
           "xaxis": "x",
           "y": [
            "鳥取県"
           ],
           "yaxis": "y"
          },
          {
           "alignmentgroup": "True",
           "hovertemplate": "都道府県名=%{y}<br>西暦（年）=2005.0<br>人口（総数）=%{x}<extra></extra>",
           "legendgroup": "島根県",
           "marker": {
            "color": "#19d3f3",
            "pattern": {
             "shape": ""
            }
           },
           "name": "島根県",
           "offsetgroup": "島根県",
           "orientation": "h",
           "showlegend": true,
           "textposition": "auto",
           "type": "bar",
           "x": [
            742223
           ],
           "xaxis": "x",
           "y": [
            "島根県"
           ],
           "yaxis": "y"
          },
          {
           "alignmentgroup": "True",
           "hovertemplate": "都道府県名=%{y}<br>西暦（年）=2005.0<br>人口（総数）=%{x}<extra></extra>",
           "legendgroup": "徳島県",
           "marker": {
            "color": "#FF6692",
            "pattern": {
             "shape": ""
            }
           },
           "name": "徳島県",
           "offsetgroup": "徳島県",
           "orientation": "h",
           "showlegend": true,
           "textposition": "auto",
           "type": "bar",
           "x": [
            809950
           ],
           "xaxis": "x",
           "y": [
            "徳島県"
           ],
           "yaxis": "y"
          },
          {
           "alignmentgroup": "True",
           "hovertemplate": "都道府県名=%{y}<br>西暦（年）=2005.0<br>人口（総数）=%{x}<extra></extra>",
           "legendgroup": "香川県",
           "marker": {
            "color": "#B6E880",
            "pattern": {
             "shape": ""
            }
           },
           "name": "香川県",
           "offsetgroup": "香川県",
           "orientation": "h",
           "showlegend": true,
           "textposition": "auto",
           "type": "bar",
           "x": [
            1012400
           ],
           "xaxis": "x",
           "y": [
            "香川県"
           ],
           "yaxis": "y"
          },
          {
           "alignmentgroup": "True",
           "hovertemplate": "都道府県名=%{y}<br>西暦（年）=2005.0<br>人口（総数）=%{x}<extra></extra>",
           "legendgroup": "高知県",
           "marker": {
            "color": "#FF97FF",
            "pattern": {
             "shape": ""
            }
           },
           "name": "高知県",
           "offsetgroup": "高知県",
           "orientation": "h",
           "showlegend": true,
           "textposition": "auto",
           "type": "bar",
           "x": [
            796292
           ],
           "xaxis": "x",
           "y": [
            "高知県"
           ],
           "yaxis": "y"
          },
          {
           "alignmentgroup": "True",
           "hovertemplate": "都道府県名=%{y}<br>西暦（年）=2005.0<br>人口（総数）=%{x}<extra></extra>",
           "legendgroup": "佐賀県",
           "marker": {
            "color": "#FECB52",
            "pattern": {
             "shape": ""
            }
           },
           "name": "佐賀県",
           "offsetgroup": "佐賀県",
           "orientation": "h",
           "showlegend": true,
           "textposition": "auto",
           "type": "bar",
           "x": [
            866369
           ],
           "xaxis": "x",
           "y": [
            "佐賀県"
           ],
           "yaxis": "y"
          }
         ],
         "name": "2005.0"
        },
        {
         "data": [
          {
           "alignmentgroup": "True",
           "hovertemplate": "都道府県名=%{y}<br>西暦（年）=2010.0<br>人口（総数）=%{x}<extra></extra>",
           "legendgroup": "秋田県",
           "marker": {
            "color": "#636efa",
            "pattern": {
             "shape": ""
            }
           },
           "name": "秋田県",
           "offsetgroup": "秋田県",
           "orientation": "h",
           "showlegend": true,
           "textposition": "auto",
           "type": "bar",
           "x": [
            1085997
           ],
           "xaxis": "x",
           "y": [
            "秋田県"
           ],
           "yaxis": "y"
          },
          {
           "alignmentgroup": "True",
           "hovertemplate": "都道府県名=%{y}<br>西暦（年）=2010.0<br>人口（総数）=%{x}<extra></extra>",
           "legendgroup": "福井県",
           "marker": {
            "color": "#EF553B",
            "pattern": {
             "shape": ""
            }
           },
           "name": "福井県",
           "offsetgroup": "福井県",
           "orientation": "h",
           "showlegend": true,
           "textposition": "auto",
           "type": "bar",
           "x": [
            806314
           ],
           "xaxis": "x",
           "y": [
            "福井県"
           ],
           "yaxis": "y"
          },
          {
           "alignmentgroup": "True",
           "hovertemplate": "都道府県名=%{y}<br>西暦（年）=2010.0<br>人口（総数）=%{x}<extra></extra>",
           "legendgroup": "山梨県",
           "marker": {
            "color": "#00cc96",
            "pattern": {
             "shape": ""
            }
           },
           "name": "山梨県",
           "offsetgroup": "山梨県",
           "orientation": "h",
           "showlegend": true,
           "textposition": "auto",
           "type": "bar",
           "x": [
            863075
           ],
           "xaxis": "x",
           "y": [
            "山梨県"
           ],
           "yaxis": "y"
          },
          {
           "alignmentgroup": "True",
           "hovertemplate": "都道府県名=%{y}<br>西暦（年）=2010.0<br>人口（総数）=%{x}<extra></extra>",
           "legendgroup": "和歌山県",
           "marker": {
            "color": "#ab63fa",
            "pattern": {
             "shape": ""
            }
           },
           "name": "和歌山県",
           "offsetgroup": "和歌山県",
           "orientation": "h",
           "showlegend": true,
           "textposition": "auto",
           "type": "bar",
           "x": [
            1002198
           ],
           "xaxis": "x",
           "y": [
            "和歌山県"
           ],
           "yaxis": "y"
          },
          {
           "alignmentgroup": "True",
           "hovertemplate": "都道府県名=%{y}<br>西暦（年）=2010.0<br>人口（総数）=%{x}<extra></extra>",
           "legendgroup": "鳥取県",
           "marker": {
            "color": "#FFA15A",
            "pattern": {
             "shape": ""
            }
           },
           "name": "鳥取県",
           "offsetgroup": "鳥取県",
           "orientation": "h",
           "showlegend": true,
           "textposition": "auto",
           "type": "bar",
           "x": [
            588667
           ],
           "xaxis": "x",
           "y": [
            "鳥取県"
           ],
           "yaxis": "y"
          },
          {
           "alignmentgroup": "True",
           "hovertemplate": "都道府県名=%{y}<br>西暦（年）=2010.0<br>人口（総数）=%{x}<extra></extra>",
           "legendgroup": "島根県",
           "marker": {
            "color": "#19d3f3",
            "pattern": {
             "shape": ""
            }
           },
           "name": "島根県",
           "offsetgroup": "島根県",
           "orientation": "h",
           "showlegend": true,
           "textposition": "auto",
           "type": "bar",
           "x": [
            717397
           ],
           "xaxis": "x",
           "y": [
            "島根県"
           ],
           "yaxis": "y"
          },
          {
           "alignmentgroup": "True",
           "hovertemplate": "都道府県名=%{y}<br>西暦（年）=2010.0<br>人口（総数）=%{x}<extra></extra>",
           "legendgroup": "徳島県",
           "marker": {
            "color": "#FF6692",
            "pattern": {
             "shape": ""
            }
           },
           "name": "徳島県",
           "offsetgroup": "徳島県",
           "orientation": "h",
           "showlegend": true,
           "textposition": "auto",
           "type": "bar",
           "x": [
            785491
           ],
           "xaxis": "x",
           "y": [
            "徳島県"
           ],
           "yaxis": "y"
          },
          {
           "alignmentgroup": "True",
           "hovertemplate": "都道府県名=%{y}<br>西暦（年）=2010.0<br>人口（総数）=%{x}<extra></extra>",
           "legendgroup": "香川県",
           "marker": {
            "color": "#B6E880",
            "pattern": {
             "shape": ""
            }
           },
           "name": "香川県",
           "offsetgroup": "香川県",
           "orientation": "h",
           "showlegend": true,
           "textposition": "auto",
           "type": "bar",
           "x": [
            995842
           ],
           "xaxis": "x",
           "y": [
            "香川県"
           ],
           "yaxis": "y"
          },
          {
           "alignmentgroup": "True",
           "hovertemplate": "都道府県名=%{y}<br>西暦（年）=2010.0<br>人口（総数）=%{x}<extra></extra>",
           "legendgroup": "高知県",
           "marker": {
            "color": "#FF97FF",
            "pattern": {
             "shape": ""
            }
           },
           "name": "高知県",
           "offsetgroup": "高知県",
           "orientation": "h",
           "showlegend": true,
           "textposition": "auto",
           "type": "bar",
           "x": [
            764456
           ],
           "xaxis": "x",
           "y": [
            "高知県"
           ],
           "yaxis": "y"
          },
          {
           "alignmentgroup": "True",
           "hovertemplate": "都道府県名=%{y}<br>西暦（年）=2010.0<br>人口（総数）=%{x}<extra></extra>",
           "legendgroup": "佐賀県",
           "marker": {
            "color": "#FECB52",
            "pattern": {
             "shape": ""
            }
           },
           "name": "佐賀県",
           "offsetgroup": "佐賀県",
           "orientation": "h",
           "showlegend": true,
           "textposition": "auto",
           "type": "bar",
           "x": [
            849788
           ],
           "xaxis": "x",
           "y": [
            "佐賀県"
           ],
           "yaxis": "y"
          }
         ],
         "name": "2010.0"
        },
        {
         "data": [
          {
           "alignmentgroup": "True",
           "hovertemplate": "都道府県名=%{y}<br>西暦（年）=2015.0<br>人口（総数）=%{x}<extra></extra>",
           "legendgroup": "秋田県",
           "marker": {
            "color": "#636efa",
            "pattern": {
             "shape": ""
            }
           },
           "name": "秋田県",
           "offsetgroup": "秋田県",
           "orientation": "h",
           "showlegend": true,
           "textposition": "auto",
           "type": "bar",
           "x": [
            1023119
           ],
           "xaxis": "x",
           "y": [
            "秋田県"
           ],
           "yaxis": "y"
          },
          {
           "alignmentgroup": "True",
           "hovertemplate": "都道府県名=%{y}<br>西暦（年）=2015.0<br>人口（総数）=%{x}<extra></extra>",
           "legendgroup": "福井県",
           "marker": {
            "color": "#EF553B",
            "pattern": {
             "shape": ""
            }
           },
           "name": "福井県",
           "offsetgroup": "福井県",
           "orientation": "h",
           "showlegend": true,
           "textposition": "auto",
           "type": "bar",
           "x": [
            786740
           ],
           "xaxis": "x",
           "y": [
            "福井県"
           ],
           "yaxis": "y"
          },
          {
           "alignmentgroup": "True",
           "hovertemplate": "都道府県名=%{y}<br>西暦（年）=2015.0<br>人口（総数）=%{x}<extra></extra>",
           "legendgroup": "山梨県",
           "marker": {
            "color": "#00cc96",
            "pattern": {
             "shape": ""
            }
           },
           "name": "山梨県",
           "offsetgroup": "山梨県",
           "orientation": "h",
           "showlegend": true,
           "textposition": "auto",
           "type": "bar",
           "x": [
            834930
           ],
           "xaxis": "x",
           "y": [
            "山梨県"
           ],
           "yaxis": "y"
          },
          {
           "alignmentgroup": "True",
           "hovertemplate": "都道府県名=%{y}<br>西暦（年）=2015.0<br>人口（総数）=%{x}<extra></extra>",
           "legendgroup": "和歌山県",
           "marker": {
            "color": "#ab63fa",
            "pattern": {
             "shape": ""
            }
           },
           "name": "和歌山県",
           "offsetgroup": "和歌山県",
           "orientation": "h",
           "showlegend": true,
           "textposition": "auto",
           "type": "bar",
           "x": [
            963579
           ],
           "xaxis": "x",
           "y": [
            "和歌山県"
           ],
           "yaxis": "y"
          },
          {
           "alignmentgroup": "True",
           "hovertemplate": "都道府県名=%{y}<br>西暦（年）=2015.0<br>人口（総数）=%{x}<extra></extra>",
           "legendgroup": "鳥取県",
           "marker": {
            "color": "#FFA15A",
            "pattern": {
             "shape": ""
            }
           },
           "name": "鳥取県",
           "offsetgroup": "鳥取県",
           "orientation": "h",
           "showlegend": true,
           "textposition": "auto",
           "type": "bar",
           "x": [
            573441
           ],
           "xaxis": "x",
           "y": [
            "鳥取県"
           ],
           "yaxis": "y"
          },
          {
           "alignmentgroup": "True",
           "hovertemplate": "都道府県名=%{y}<br>西暦（年）=2015.0<br>人口（総数）=%{x}<extra></extra>",
           "legendgroup": "島根県",
           "marker": {
            "color": "#19d3f3",
            "pattern": {
             "shape": ""
            }
           },
           "name": "島根県",
           "offsetgroup": "島根県",
           "orientation": "h",
           "showlegend": true,
           "textposition": "auto",
           "type": "bar",
           "x": [
            694352
           ],
           "xaxis": "x",
           "y": [
            "島根県"
           ],
           "yaxis": "y"
          },
          {
           "alignmentgroup": "True",
           "hovertemplate": "都道府県名=%{y}<br>西暦（年）=2015.0<br>人口（総数）=%{x}<extra></extra>",
           "legendgroup": "徳島県",
           "marker": {
            "color": "#FF6692",
            "pattern": {
             "shape": ""
            }
           },
           "name": "徳島県",
           "offsetgroup": "徳島県",
           "orientation": "h",
           "showlegend": true,
           "textposition": "auto",
           "type": "bar",
           "x": [
            755733
           ],
           "xaxis": "x",
           "y": [
            "徳島県"
           ],
           "yaxis": "y"
          },
          {
           "alignmentgroup": "True",
           "hovertemplate": "都道府県名=%{y}<br>西暦（年）=2015.0<br>人口（総数）=%{x}<extra></extra>",
           "legendgroup": "香川県",
           "marker": {
            "color": "#B6E880",
            "pattern": {
             "shape": ""
            }
           },
           "name": "香川県",
           "offsetgroup": "香川県",
           "orientation": "h",
           "showlegend": true,
           "textposition": "auto",
           "type": "bar",
           "x": [
            976263
           ],
           "xaxis": "x",
           "y": [
            "香川県"
           ],
           "yaxis": "y"
          },
          {
           "alignmentgroup": "True",
           "hovertemplate": "都道府県名=%{y}<br>西暦（年）=2015.0<br>人口（総数）=%{x}<extra></extra>",
           "legendgroup": "高知県",
           "marker": {
            "color": "#FF97FF",
            "pattern": {
             "shape": ""
            }
           },
           "name": "高知県",
           "offsetgroup": "高知県",
           "orientation": "h",
           "showlegend": true,
           "textposition": "auto",
           "type": "bar",
           "x": [
            728276
           ],
           "xaxis": "x",
           "y": [
            "高知県"
           ],
           "yaxis": "y"
          },
          {
           "alignmentgroup": "True",
           "hovertemplate": "都道府県名=%{y}<br>西暦（年）=2015.0<br>人口（総数）=%{x}<extra></extra>",
           "legendgroup": "佐賀県",
           "marker": {
            "color": "#FECB52",
            "pattern": {
             "shape": ""
            }
           },
           "name": "佐賀県",
           "offsetgroup": "佐賀県",
           "orientation": "h",
           "showlegend": true,
           "textposition": "auto",
           "type": "bar",
           "x": [
            832832
           ],
           "xaxis": "x",
           "y": [
            "佐賀県"
           ],
           "yaxis": "y"
          }
         ],
         "name": "2015.0"
        }
       ],
       "layout": {
        "barmode": "relative",
        "legend": {
         "title": {
          "text": "都道府県名"
         },
         "tracegroupgap": 0
        },
        "margin": {
         "t": 60
        },
        "sliders": [
         {
          "active": 0,
          "currentvalue": {
           "prefix": "西暦（年）="
          },
          "len": 0.9,
          "pad": {
           "b": 10,
           "t": 60
          },
          "steps": [
           {
            "args": [
             [
              "1920.0"
             ],
             {
              "frame": {
               "duration": 0,
               "redraw": true
              },
              "fromcurrent": true,
              "mode": "immediate",
              "transition": {
               "duration": 0,
               "easing": "linear"
              }
             }
            ],
            "label": "1920.0",
            "method": "animate"
           },
           {
            "args": [
             [
              "1925.0"
             ],
             {
              "frame": {
               "duration": 0,
               "redraw": true
              },
              "fromcurrent": true,
              "mode": "immediate",
              "transition": {
               "duration": 0,
               "easing": "linear"
              }
             }
            ],
            "label": "1925.0",
            "method": "animate"
           },
           {
            "args": [
             [
              "1930.0"
             ],
             {
              "frame": {
               "duration": 0,
               "redraw": true
              },
              "fromcurrent": true,
              "mode": "immediate",
              "transition": {
               "duration": 0,
               "easing": "linear"
              }
             }
            ],
            "label": "1930.0",
            "method": "animate"
           },
           {
            "args": [
             [
              "1935.0"
             ],
             {
              "frame": {
               "duration": 0,
               "redraw": true
              },
              "fromcurrent": true,
              "mode": "immediate",
              "transition": {
               "duration": 0,
               "easing": "linear"
              }
             }
            ],
            "label": "1935.0",
            "method": "animate"
           },
           {
            "args": [
             [
              "1940.0"
             ],
             {
              "frame": {
               "duration": 0,
               "redraw": true
              },
              "fromcurrent": true,
              "mode": "immediate",
              "transition": {
               "duration": 0,
               "easing": "linear"
              }
             }
            ],
            "label": "1940.0",
            "method": "animate"
           },
           {
            "args": [
             [
              "1945.0"
             ],
             {
              "frame": {
               "duration": 0,
               "redraw": true
              },
              "fromcurrent": true,
              "mode": "immediate",
              "transition": {
               "duration": 0,
               "easing": "linear"
              }
             }
            ],
            "label": "1945.0",
            "method": "animate"
           },
           {
            "args": [
             [
              "1950.0"
             ],
             {
              "frame": {
               "duration": 0,
               "redraw": true
              },
              "fromcurrent": true,
              "mode": "immediate",
              "transition": {
               "duration": 0,
               "easing": "linear"
              }
             }
            ],
            "label": "1950.0",
            "method": "animate"
           },
           {
            "args": [
             [
              "1955.0"
             ],
             {
              "frame": {
               "duration": 0,
               "redraw": true
              },
              "fromcurrent": true,
              "mode": "immediate",
              "transition": {
               "duration": 0,
               "easing": "linear"
              }
             }
            ],
            "label": "1955.0",
            "method": "animate"
           },
           {
            "args": [
             [
              "1960.0"
             ],
             {
              "frame": {
               "duration": 0,
               "redraw": true
              },
              "fromcurrent": true,
              "mode": "immediate",
              "transition": {
               "duration": 0,
               "easing": "linear"
              }
             }
            ],
            "label": "1960.0",
            "method": "animate"
           },
           {
            "args": [
             [
              "1965.0"
             ],
             {
              "frame": {
               "duration": 0,
               "redraw": true
              },
              "fromcurrent": true,
              "mode": "immediate",
              "transition": {
               "duration": 0,
               "easing": "linear"
              }
             }
            ],
            "label": "1965.0",
            "method": "animate"
           },
           {
            "args": [
             [
              "1970.0"
             ],
             {
              "frame": {
               "duration": 0,
               "redraw": true
              },
              "fromcurrent": true,
              "mode": "immediate",
              "transition": {
               "duration": 0,
               "easing": "linear"
              }
             }
            ],
            "label": "1970.0",
            "method": "animate"
           },
           {
            "args": [
             [
              "1975.0"
             ],
             {
              "frame": {
               "duration": 0,
               "redraw": true
              },
              "fromcurrent": true,
              "mode": "immediate",
              "transition": {
               "duration": 0,
               "easing": "linear"
              }
             }
            ],
            "label": "1975.0",
            "method": "animate"
           },
           {
            "args": [
             [
              "1980.0"
             ],
             {
              "frame": {
               "duration": 0,
               "redraw": true
              },
              "fromcurrent": true,
              "mode": "immediate",
              "transition": {
               "duration": 0,
               "easing": "linear"
              }
             }
            ],
            "label": "1980.0",
            "method": "animate"
           },
           {
            "args": [
             [
              "1985.0"
             ],
             {
              "frame": {
               "duration": 0,
               "redraw": true
              },
              "fromcurrent": true,
              "mode": "immediate",
              "transition": {
               "duration": 0,
               "easing": "linear"
              }
             }
            ],
            "label": "1985.0",
            "method": "animate"
           },
           {
            "args": [
             [
              "1990.0"
             ],
             {
              "frame": {
               "duration": 0,
               "redraw": true
              },
              "fromcurrent": true,
              "mode": "immediate",
              "transition": {
               "duration": 0,
               "easing": "linear"
              }
             }
            ],
            "label": "1990.0",
            "method": "animate"
           },
           {
            "args": [
             [
              "1995.0"
             ],
             {
              "frame": {
               "duration": 0,
               "redraw": true
              },
              "fromcurrent": true,
              "mode": "immediate",
              "transition": {
               "duration": 0,
               "easing": "linear"
              }
             }
            ],
            "label": "1995.0",
            "method": "animate"
           },
           {
            "args": [
             [
              "2000.0"
             ],
             {
              "frame": {
               "duration": 0,
               "redraw": true
              },
              "fromcurrent": true,
              "mode": "immediate",
              "transition": {
               "duration": 0,
               "easing": "linear"
              }
             }
            ],
            "label": "2000.0",
            "method": "animate"
           },
           {
            "args": [
             [
              "2005.0"
             ],
             {
              "frame": {
               "duration": 0,
               "redraw": true
              },
              "fromcurrent": true,
              "mode": "immediate",
              "transition": {
               "duration": 0,
               "easing": "linear"
              }
             }
            ],
            "label": "2005.0",
            "method": "animate"
           },
           {
            "args": [
             [
              "2010.0"
             ],
             {
              "frame": {
               "duration": 0,
               "redraw": true
              },
              "fromcurrent": true,
              "mode": "immediate",
              "transition": {
               "duration": 0,
               "easing": "linear"
              }
             }
            ],
            "label": "2010.0",
            "method": "animate"
           },
           {
            "args": [
             [
              "2015.0"
             ],
             {
              "frame": {
               "duration": 0,
               "redraw": true
              },
              "fromcurrent": true,
              "mode": "immediate",
              "transition": {
               "duration": 0,
               "easing": "linear"
              }
             }
            ],
            "label": "2015.0",
            "method": "animate"
           }
          ],
          "x": 0.1,
          "xanchor": "left",
          "y": 0,
          "yanchor": "top"
         }
        ],
        "template": {
         "data": {
          "bar": [
           {
            "error_x": {
             "color": "#2a3f5f"
            },
            "error_y": {
             "color": "#2a3f5f"
            },
            "marker": {
             "line": {
              "color": "#E5ECF6",
              "width": 0.5
             },
             "pattern": {
              "fillmode": "overlay",
              "size": 10,
              "solidity": 0.2
             }
            },
            "type": "bar"
           }
          ],
          "barpolar": [
           {
            "marker": {
             "line": {
              "color": "#E5ECF6",
              "width": 0.5
             },
             "pattern": {
              "fillmode": "overlay",
              "size": 10,
              "solidity": 0.2
             }
            },
            "type": "barpolar"
           }
          ],
          "carpet": [
           {
            "aaxis": {
             "endlinecolor": "#2a3f5f",
             "gridcolor": "white",
             "linecolor": "white",
             "minorgridcolor": "white",
             "startlinecolor": "#2a3f5f"
            },
            "baxis": {
             "endlinecolor": "#2a3f5f",
             "gridcolor": "white",
             "linecolor": "white",
             "minorgridcolor": "white",
             "startlinecolor": "#2a3f5f"
            },
            "type": "carpet"
           }
          ],
          "choropleth": [
           {
            "colorbar": {
             "outlinewidth": 0,
             "ticks": ""
            },
            "type": "choropleth"
           }
          ],
          "contour": [
           {
            "colorbar": {
             "outlinewidth": 0,
             "ticks": ""
            },
            "colorscale": [
             [
              0,
              "#0d0887"
             ],
             [
              0.1111111111111111,
              "#46039f"
             ],
             [
              0.2222222222222222,
              "#7201a8"
             ],
             [
              0.3333333333333333,
              "#9c179e"
             ],
             [
              0.4444444444444444,
              "#bd3786"
             ],
             [
              0.5555555555555556,
              "#d8576b"
             ],
             [
              0.6666666666666666,
              "#ed7953"
             ],
             [
              0.7777777777777778,
              "#fb9f3a"
             ],
             [
              0.8888888888888888,
              "#fdca26"
             ],
             [
              1,
              "#f0f921"
             ]
            ],
            "type": "contour"
           }
          ],
          "contourcarpet": [
           {
            "colorbar": {
             "outlinewidth": 0,
             "ticks": ""
            },
            "type": "contourcarpet"
           }
          ],
          "heatmap": [
           {
            "colorbar": {
             "outlinewidth": 0,
             "ticks": ""
            },
            "colorscale": [
             [
              0,
              "#0d0887"
             ],
             [
              0.1111111111111111,
              "#46039f"
             ],
             [
              0.2222222222222222,
              "#7201a8"
             ],
             [
              0.3333333333333333,
              "#9c179e"
             ],
             [
              0.4444444444444444,
              "#bd3786"
             ],
             [
              0.5555555555555556,
              "#d8576b"
             ],
             [
              0.6666666666666666,
              "#ed7953"
             ],
             [
              0.7777777777777778,
              "#fb9f3a"
             ],
             [
              0.8888888888888888,
              "#fdca26"
             ],
             [
              1,
              "#f0f921"
             ]
            ],
            "type": "heatmap"
           }
          ],
          "heatmapgl": [
           {
            "colorbar": {
             "outlinewidth": 0,
             "ticks": ""
            },
            "colorscale": [
             [
              0,
              "#0d0887"
             ],
             [
              0.1111111111111111,
              "#46039f"
             ],
             [
              0.2222222222222222,
              "#7201a8"
             ],
             [
              0.3333333333333333,
              "#9c179e"
             ],
             [
              0.4444444444444444,
              "#bd3786"
             ],
             [
              0.5555555555555556,
              "#d8576b"
             ],
             [
              0.6666666666666666,
              "#ed7953"
             ],
             [
              0.7777777777777778,
              "#fb9f3a"
             ],
             [
              0.8888888888888888,
              "#fdca26"
             ],
             [
              1,
              "#f0f921"
             ]
            ],
            "type": "heatmapgl"
           }
          ],
          "histogram": [
           {
            "marker": {
             "pattern": {
              "fillmode": "overlay",
              "size": 10,
              "solidity": 0.2
             }
            },
            "type": "histogram"
           }
          ],
          "histogram2d": [
           {
            "colorbar": {
             "outlinewidth": 0,
             "ticks": ""
            },
            "colorscale": [
             [
              0,
              "#0d0887"
             ],
             [
              0.1111111111111111,
              "#46039f"
             ],
             [
              0.2222222222222222,
              "#7201a8"
             ],
             [
              0.3333333333333333,
              "#9c179e"
             ],
             [
              0.4444444444444444,
              "#bd3786"
             ],
             [
              0.5555555555555556,
              "#d8576b"
             ],
             [
              0.6666666666666666,
              "#ed7953"
             ],
             [
              0.7777777777777778,
              "#fb9f3a"
             ],
             [
              0.8888888888888888,
              "#fdca26"
             ],
             [
              1,
              "#f0f921"
             ]
            ],
            "type": "histogram2d"
           }
          ],
          "histogram2dcontour": [
           {
            "colorbar": {
             "outlinewidth": 0,
             "ticks": ""
            },
            "colorscale": [
             [
              0,
              "#0d0887"
             ],
             [
              0.1111111111111111,
              "#46039f"
             ],
             [
              0.2222222222222222,
              "#7201a8"
             ],
             [
              0.3333333333333333,
              "#9c179e"
             ],
             [
              0.4444444444444444,
              "#bd3786"
             ],
             [
              0.5555555555555556,
              "#d8576b"
             ],
             [
              0.6666666666666666,
              "#ed7953"
             ],
             [
              0.7777777777777778,
              "#fb9f3a"
             ],
             [
              0.8888888888888888,
              "#fdca26"
             ],
             [
              1,
              "#f0f921"
             ]
            ],
            "type": "histogram2dcontour"
           }
          ],
          "mesh3d": [
           {
            "colorbar": {
             "outlinewidth": 0,
             "ticks": ""
            },
            "type": "mesh3d"
           }
          ],
          "parcoords": [
           {
            "line": {
             "colorbar": {
              "outlinewidth": 0,
              "ticks": ""
             }
            },
            "type": "parcoords"
           }
          ],
          "pie": [
           {
            "automargin": true,
            "type": "pie"
           }
          ],
          "scatter": [
           {
            "fillpattern": {
             "fillmode": "overlay",
             "size": 10,
             "solidity": 0.2
            },
            "type": "scatter"
           }
          ],
          "scatter3d": [
           {
            "line": {
             "colorbar": {
              "outlinewidth": 0,
              "ticks": ""
             }
            },
            "marker": {
             "colorbar": {
              "outlinewidth": 0,
              "ticks": ""
             }
            },
            "type": "scatter3d"
           }
          ],
          "scattercarpet": [
           {
            "marker": {
             "colorbar": {
              "outlinewidth": 0,
              "ticks": ""
             }
            },
            "type": "scattercarpet"
           }
          ],
          "scattergeo": [
           {
            "marker": {
             "colorbar": {
              "outlinewidth": 0,
              "ticks": ""
             }
            },
            "type": "scattergeo"
           }
          ],
          "scattergl": [
           {
            "marker": {
             "colorbar": {
              "outlinewidth": 0,
              "ticks": ""
             }
            },
            "type": "scattergl"
           }
          ],
          "scattermapbox": [
           {
            "marker": {
             "colorbar": {
              "outlinewidth": 0,
              "ticks": ""
             }
            },
            "type": "scattermapbox"
           }
          ],
          "scatterpolar": [
           {
            "marker": {
             "colorbar": {
              "outlinewidth": 0,
              "ticks": ""
             }
            },
            "type": "scatterpolar"
           }
          ],
          "scatterpolargl": [
           {
            "marker": {
             "colorbar": {
              "outlinewidth": 0,
              "ticks": ""
             }
            },
            "type": "scatterpolargl"
           }
          ],
          "scatterternary": [
           {
            "marker": {
             "colorbar": {
              "outlinewidth": 0,
              "ticks": ""
             }
            },
            "type": "scatterternary"
           }
          ],
          "surface": [
           {
            "colorbar": {
             "outlinewidth": 0,
             "ticks": ""
            },
            "colorscale": [
             [
              0,
              "#0d0887"
             ],
             [
              0.1111111111111111,
              "#46039f"
             ],
             [
              0.2222222222222222,
              "#7201a8"
             ],
             [
              0.3333333333333333,
              "#9c179e"
             ],
             [
              0.4444444444444444,
              "#bd3786"
             ],
             [
              0.5555555555555556,
              "#d8576b"
             ],
             [
              0.6666666666666666,
              "#ed7953"
             ],
             [
              0.7777777777777778,
              "#fb9f3a"
             ],
             [
              0.8888888888888888,
              "#fdca26"
             ],
             [
              1,
              "#f0f921"
             ]
            ],
            "type": "surface"
           }
          ],
          "table": [
           {
            "cells": {
             "fill": {
              "color": "#EBF0F8"
             },
             "line": {
              "color": "white"
             }
            },
            "header": {
             "fill": {
              "color": "#C8D4E3"
             },
             "line": {
              "color": "white"
             }
            },
            "type": "table"
           }
          ]
         },
         "layout": {
          "annotationdefaults": {
           "arrowcolor": "#2a3f5f",
           "arrowhead": 0,
           "arrowwidth": 1
          },
          "autotypenumbers": "strict",
          "coloraxis": {
           "colorbar": {
            "outlinewidth": 0,
            "ticks": ""
           }
          },
          "colorscale": {
           "diverging": [
            [
             0,
             "#8e0152"
            ],
            [
             0.1,
             "#c51b7d"
            ],
            [
             0.2,
             "#de77ae"
            ],
            [
             0.3,
             "#f1b6da"
            ],
            [
             0.4,
             "#fde0ef"
            ],
            [
             0.5,
             "#f7f7f7"
            ],
            [
             0.6,
             "#e6f5d0"
            ],
            [
             0.7,
             "#b8e186"
            ],
            [
             0.8,
             "#7fbc41"
            ],
            [
             0.9,
             "#4d9221"
            ],
            [
             1,
             "#276419"
            ]
           ],
           "sequential": [
            [
             0,
             "#0d0887"
            ],
            [
             0.1111111111111111,
             "#46039f"
            ],
            [
             0.2222222222222222,
             "#7201a8"
            ],
            [
             0.3333333333333333,
             "#9c179e"
            ],
            [
             0.4444444444444444,
             "#bd3786"
            ],
            [
             0.5555555555555556,
             "#d8576b"
            ],
            [
             0.6666666666666666,
             "#ed7953"
            ],
            [
             0.7777777777777778,
             "#fb9f3a"
            ],
            [
             0.8888888888888888,
             "#fdca26"
            ],
            [
             1,
             "#f0f921"
            ]
           ],
           "sequentialminus": [
            [
             0,
             "#0d0887"
            ],
            [
             0.1111111111111111,
             "#46039f"
            ],
            [
             0.2222222222222222,
             "#7201a8"
            ],
            [
             0.3333333333333333,
             "#9c179e"
            ],
            [
             0.4444444444444444,
             "#bd3786"
            ],
            [
             0.5555555555555556,
             "#d8576b"
            ],
            [
             0.6666666666666666,
             "#ed7953"
            ],
            [
             0.7777777777777778,
             "#fb9f3a"
            ],
            [
             0.8888888888888888,
             "#fdca26"
            ],
            [
             1,
             "#f0f921"
            ]
           ]
          },
          "colorway": [
           "#636efa",
           "#EF553B",
           "#00cc96",
           "#ab63fa",
           "#FFA15A",
           "#19d3f3",
           "#FF6692",
           "#B6E880",
           "#FF97FF",
           "#FECB52"
          ],
          "font": {
           "color": "#2a3f5f"
          },
          "geo": {
           "bgcolor": "white",
           "lakecolor": "white",
           "landcolor": "#E5ECF6",
           "showlakes": true,
           "showland": true,
           "subunitcolor": "white"
          },
          "hoverlabel": {
           "align": "left"
          },
          "hovermode": "closest",
          "mapbox": {
           "style": "light"
          },
          "paper_bgcolor": "white",
          "plot_bgcolor": "#E5ECF6",
          "polar": {
           "angularaxis": {
            "gridcolor": "white",
            "linecolor": "white",
            "ticks": ""
           },
           "bgcolor": "#E5ECF6",
           "radialaxis": {
            "gridcolor": "white",
            "linecolor": "white",
            "ticks": ""
           }
          },
          "scene": {
           "xaxis": {
            "backgroundcolor": "#E5ECF6",
            "gridcolor": "white",
            "gridwidth": 2,
            "linecolor": "white",
            "showbackground": true,
            "ticks": "",
            "zerolinecolor": "white"
           },
           "yaxis": {
            "backgroundcolor": "#E5ECF6",
            "gridcolor": "white",
            "gridwidth": 2,
            "linecolor": "white",
            "showbackground": true,
            "ticks": "",
            "zerolinecolor": "white"
           },
           "zaxis": {
            "backgroundcolor": "#E5ECF6",
            "gridcolor": "white",
            "gridwidth": 2,
            "linecolor": "white",
            "showbackground": true,
            "ticks": "",
            "zerolinecolor": "white"
           }
          },
          "shapedefaults": {
           "line": {
            "color": "#2a3f5f"
           }
          },
          "ternary": {
           "aaxis": {
            "gridcolor": "white",
            "linecolor": "white",
            "ticks": ""
           },
           "baxis": {
            "gridcolor": "white",
            "linecolor": "white",
            "ticks": ""
           },
           "bgcolor": "#E5ECF6",
           "caxis": {
            "gridcolor": "white",
            "linecolor": "white",
            "ticks": ""
           }
          },
          "title": {
           "x": 0.05
          },
          "xaxis": {
           "automargin": true,
           "gridcolor": "white",
           "linecolor": "white",
           "ticks": "",
           "title": {
            "standoff": 15
           },
           "zerolinecolor": "white",
           "zerolinewidth": 2
          },
          "yaxis": {
           "automargin": true,
           "gridcolor": "white",
           "linecolor": "white",
           "ticks": "",
           "title": {
            "standoff": 15
           },
           "zerolinecolor": "white",
           "zerolinewidth": 2
          }
         }
        },
        "title": {
         "text": "ワースト10の都道府県の人口推移"
        },
        "updatemenus": [
         {
          "buttons": [
           {
            "args": [
             null,
             {
              "frame": {
               "duration": 500,
               "redraw": true
              },
              "fromcurrent": true,
              "mode": "immediate",
              "transition": {
               "duration": 500,
               "easing": "linear"
              }
             }
            ],
            "label": "&#9654;",
            "method": "animate"
           },
           {
            "args": [
             [
              null
             ],
             {
              "frame": {
               "duration": 0,
               "redraw": true
              },
              "fromcurrent": true,
              "mode": "immediate",
              "transition": {
               "duration": 0,
               "easing": "linear"
              }
             }
            ],
            "label": "&#9724;",
            "method": "animate"
           }
          ],
          "direction": "left",
          "pad": {
           "r": 10,
           "t": 70
          },
          "showactive": false,
          "type": "buttons",
          "x": 0.1,
          "xanchor": "right",
          "y": 0,
          "yanchor": "top"
         }
        ],
        "xaxis": {
         "anchor": "y",
         "domain": [
          0,
          1
         ],
         "range": [
          0,
          1483758.1
         ],
         "title": {
          "text": "人口総数"
         }
        },
        "yaxis": {
         "anchor": "x",
         "categoryarray": [
          "佐賀県",
          "高知県",
          "香川県",
          "徳島県",
          "島根県",
          "鳥取県",
          "和歌山県",
          "山梨県",
          "福井県",
          "秋田県"
         ],
         "categoryorder": "array",
         "domain": [
          0,
          1
         ],
         "title": {
          "text": "都道府県名"
         }
        }
       }
      }
     },
     "metadata": {},
     "output_type": "display_data"
    }
   ],
   "source": [
    "import plotly.express as px  \n",
    "import pandas as pd  \n",
    "  \n",
    "# データの読み込み  \n",
    "df = pd.read_csv('.\\data\\Population in Japan.csv')  \n",
    "latest_year=2015\n",
    "print(df.head())\n",
    "df['人口（総数）'] = pd.to_numeric(df['人口（総数）'], errors='coerce')\n",
    "# 人口ワースト10の都道府県のデータをフィルタリング  \n",
    "worst_10_prefectures = df[df['西暦（年）'] == latest_year].nsmallest(10, '人口（総数）')  \n",
    "worst_10_prefectures_list = worst_10_prefectures['都道府県名'].tolist()  \n",
    "population_trends_worst_10 = df[df['都道府県名'].isin(worst_10_prefectures_list)]  \n",
    "  \n",
    "# バーチャートレースの作成  \n",
    "fig = px.bar(population_trends_worst_10,  \n",
    "             x='人口（総数）',  \n",
    "             y='都道府県名',  \n",
    "             color='都道府県名',  \n",
    "             animation_frame='西暦（年）',  \n",
    "             range_x=[0, population_trends_worst_10['人口（総数）'].max() * 1.1],  \n",
    "             orientation='h')  \n",
    "  \n",
    "# レイアウトの更新  \n",
    "fig.update_layout(title='ワースト10の都道府県の人口推移',  \n",
    "                  xaxis_title='人口総数',  \n",
    "                  yaxis_title='都道府県名')  \n",
    "  \n",
    "# バーチャートレースを表示  \n",
    "fig.show()  "
   ]
  },
  {
   "cell_type": "code",
   "execution_count": null,
   "metadata": {},
   "outputs": [
    {
     "name": "stdout",
     "output_type": "stream",
     "text": [
      "都道府県コード     object\n",
      "都道府県名       object\n",
      "元号          object\n",
      "和暦（年）      float64\n",
      "西暦（年）      float64\n",
      "注           object\n",
      "人口（総数）      object\n",
      "人口（男）       object\n",
      "人口（女）       object\n",
      "dtype: object\n"
     ]
    }
   ],
   "source": [
    "# dfの型定義を確認\n",
    "print(df.dtypes)"
   ]
  },
  {
   "cell_type": "code",
   "execution_count": null,
   "metadata": {},
   "outputs": [],
   "source": []
  }
 ],
 "metadata": {
  "kernelspec": {
   "display_name": "Python 3",
   "language": "python",
   "name": "python3"
  },
  "language_info": {
   "codemirror_mode": {
    "name": "ipython",
    "version": 3
   },
   "file_extension": ".py",
   "mimetype": "text/x-python",
   "name": "python",
   "nbconvert_exporter": "python",
   "pygments_lexer": "ipython3",
   "version": "3.12.2"
  }
 },
 "nbformat": 4,
 "nbformat_minor": 2
}
